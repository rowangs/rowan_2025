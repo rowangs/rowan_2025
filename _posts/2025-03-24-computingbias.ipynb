{
 "cells": [
  {
   "cell_type": "markdown",
   "metadata": {},
   "source": [
    "# Big Idea 5 Computing Bias Notes, Hacks, HW\n",
    "\n",
    "**Week 2, Lesson 1**\n",
    "\n",
    "[Permalink to Lesson](https://yourwebsite.com/computingbias/)\n",
    "\n",
    "*Comments: Enabled*"
   ]
  },
  {
   "cell_type": "markdown",
   "metadata": {},
   "source": [
    "# Computing Bias - Rowan Sutherland 03.24.2025\n",
    "\n",
    "- Popcorn Hack #1:\n",
    "    - What is an example of Explicit Data?\n",
    "    - Answer: **B**\n",
    "\n",
    "- Popcorn Hack #2: \n",
    "    - What is an example of data bias?\n",
    "    - Answer: **B**\n",
    "\n",
    "- Popcorn Hack #3: \n",
    "    - What is an example of Unintentional Bias?\n",
    "    - \n",
    "\n"
   ]
  }
 ],
 "metadata": {
  "language_info": {
   "name": "python"
  }
 },
 "nbformat": 4,
 "nbformat_minor": 2
}
