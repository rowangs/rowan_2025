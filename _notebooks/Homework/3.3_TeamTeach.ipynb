{
 "cells": [
  {
   "cell_type": "markdown",
   "metadata": {},
   "source": [
    "# Popcorn Hacks\n",
    "\n",
    "## Easy Popcorn Hack\n",
    "\n",
    "### Python: Create a function that uses 4 of the 5 basic arithmetic operations and returns the number 32 as the answer.\n"
   ]
  },
  {
   "cell_type": "code",
   "execution_count": null,
   "metadata": {},
   "outputs": [],
   "source": [
    "def arithmetic_operations():\n",
    "    # Using addition, subtraction, multiplication, and division to return 32\n",
    "    result = ((5 * 8) + 10 - 18) / 2\n",
    "    return result\n",
    "\n",
    "# Test the function\n",
    "print(\"Result of arithmetic_operations():\", arithmetic_operations())\n"
   ]
  },
  {
   "cell_type": "markdown",
   "metadata": {},
   "source": [
    "### Java: Create a function that uses 4 of the 5 basic arithmetic operations and returns the number 32 as the answer.\n"
   ]
  },
  {
   "cell_type": "code",
   "execution_count": null,
   "metadata": {
    "vscode": {
     "languageId": "javascript"
    }
   },
   "outputs": [],
   "source": [
    "%%js \n",
    "public class PopcornHackEasy {\n",
    "    public static int arithmeticOperations() {\n",
    "        // Using addition, subtraction, multiplication, and division to return 32\n",
    "        return ((5 * 8) + 10 - 18) / 2;\n",
    "    }\n",
    "\n",
    "    public static void main(String[] args) {\n",
    "        // Test the function\n",
    "        System.out.println(\"Result of arithmeticOperations(): \" + arithmeticOperations());\n",
    "    }\n",
    "}\n"
   ]
  },
  {
   "cell_type": "markdown",
   "metadata": {},
   "source": [
    "## Medium Popcorn Hack\n",
    "\n",
    "### Python: Make a function that lets you make a sandwich. Ask for different ingredients and at the end give the sandwich a name.\n"
   ]
  },
  {
   "cell_type": "code",
   "execution_count": null,
   "metadata": {},
   "outputs": [],
   "source": [
    "def make_sandwich():\n",
    "    print(\"Let's make a sandwich!\")\n",
    "    ingredients = []\n",
    "\n",
    "    while True:\n",
    "        ingredient = input(\"Enter an ingredient (or 'done' when you're finished): \")\n",
    "        if ingredient.lower() == 'done':\n",
    "            break\n",
    "        ingredients.append(ingredient)\n",
    "\n",
    "    sandwich_name = input(\"Name your sandwich: \")\n",
    "\n",
    "    print(\"\\nYour sandwich is ready!\")\n",
    "    print(f\"Ingredients: {', '.join(ingredients)}\")\n",
    "    print(f\"Sandwich Name: {sandwich_name}\")\n",
    "\n",
    "# Uncomment the following line to test the function in a Jupyter notebook\n",
    "# make_sandwich()\n"
   ]
  },
  {
   "cell_type": "markdown",
   "metadata": {},
   "source": [
    "### Java: Make a function that lets you make a sandwich. Ask for different ingredients and at the end give the sandwich a name.\n"
   ]
  },
  {
   "cell_type": "code",
   "execution_count": null,
   "metadata": {
    "vscode": {
     "languageId": "javascript"
    }
   },
   "outputs": [],
   "source": [
    "%%js\n",
    "import java.util.ArrayList;\n",
    "import java.util.Scanner;\n",
    "\n",
    "public class PopcornHackMedium {\n",
    "    public static void makeSandwich() {\n",
    "        Scanner scanner = new Scanner(System.in);\n",
    "        ArrayList<String> ingredients = new ArrayList<>();\n",
    "        String ingredient;\n",
    "        \n",
    "        System.out.println(\"Let's make a sandwich!\");\n",
    "        \n",
    "        // Keep asking for ingredients until the user types 'done'\n",
    "        while (true) {\n",
    "            System.out.print(\"Enter an ingredient (or 'done' when you're finished): \");\n",
    "            ingredient = scanner.nextLine().toLowerCase();\n",
    "            if (ingredient.equals(\"done\")) {\n",
    "                break;\n",
    "            }\n",
    "            ingredients.add(ingredient);\n",
    "        }\n",
    "        \n",
    "        // Ask for sandwich name\n",
    "        System.out.print(\"Name your sandwich: \");\n",
    "        String sandwichName = scanner.nextLine();\n",
    "        \n",
    "        // Display the sandwich\n",
    "        System.out.println(\"\\nYour sandwich is ready!\");\n",
    "        System.out.println(\"Ingredients: \" + String.join(\", \", ingredients));\n",
    "        System.out.println(\"Sandwich Name: \" + sandwichName);\n",
    "    }\n",
    "\n",
    "    public static void main(String[] args) {\n",
    "        makeSandwich();\n",
    "    }\n",
    "}\n"
   ]
  },
  {
   "cell_type": "markdown",
   "metadata": {},
   "source": [
    "# Homework Hacks\n",
    "\n",
    "- After learning about Mathematical Expressions and Operations in JavaScript, you should be able to complete the hacks listed below.\n",
    "\n",
    "## Task 1: Greatest Common Divisor (GCD) and Least Common Multiple (LCM)\n",
    "\n",
    "### Instructions:\n",
    "- Write a function that takes two variables `a` and `b`.\n",
    "- The function should:\n",
    "  1. Compute the Greatest Common Divisor (GCD) of `a` and `b`.\n",
    "  2. Compute the Least Common Multiple (LCM) of `a` and `b`.\n",
    "  3. Return both results as an object.\n"
   ]
  },
  {
   "cell_type": "code",
   "execution_count": null,
   "metadata": {},
   "outputs": [],
   "source": [
    "# ## Python: GCD and LCM Function\n",
    "\n",
    "import math\n",
    "\n",
    "def gcd_lcm(a, b):\n",
    "    # Compute the GCD using math.gcd\n",
    "    gcd = math.gcd(a, b)\n",
    "    \n",
    "    # Compute the LCM using the formula: lcm(a, b) = abs(a * b) // gcd(a, b)\n",
    "    lcm = abs(a * b) // gcd\n",
    "    \n",
    "    # Return the results as a dictionary (similar to an object in JavaScript)\n",
    "    return {'gcd': gcd, 'lcm': lcm}\n",
    "\n",
    "# Test the function\n",
    "result = gcd_lcm(12, 18)\n",
    "print(f\"GCD: {result['gcd']}, LCM: {result['lcm']}\")\n"
   ]
  },
  {
   "cell_type": "code",
   "execution_count": null,
   "metadata": {
    "vscode": {
     "languageId": "javascript"
    }
   },
   "outputs": [],
   "source": [
    "%%js\n",
    "// ## Java: GCD and LCM Function\n",
    "\n",
    "public class GCDLCM {\n",
    "\n",
    "    // Method to compute GCD using the Euclidean algorithm\n",
    "    public static int gcd(int a, int b) {\n",
    "        while (b != 0) {\n",
    "            int temp = b;\n",
    "            b = a % b;\n",
    "            a = temp;\n",
    "        }\n",
    "        return a;\n",
    "    }\n",
    "\n",
    "    // Method to compute LCM using the formula: lcm(a, b) = abs(a * b) / gcd(a, b)\n",
    "    public static int lcm(int a, int b) {\n",
    "        return Math.abs(a * b) / gcd(a, b);\n",
    "    }\n",
    "\n",
    "    // Method that returns both GCD and LCM\n",
    "    public static void gcdLcm(int a, int b) {\n",
    "        int gcd = gcd(a, b);\n",
    "        int lcm = lcm(a, b);\n",
    "        System.out.println(\"GCD: \" + gcd + \", LCM: \" + lcm);\n",
    "    }\n",
    "\n",
    "    public static void main(String[] args) {\n",
    "        gcdLcm(12, 18);\n",
    "    }\n",
    "}\n"
   ]
  },
  {
   "cell_type": "markdown",
   "metadata": {},
   "source": [
    "## Task 2: Prime Factors\n",
    "\n",
    "### Instructions:\n",
    "- Write a function that takes a positive integer `n` and returns an array of its prime factors.\n",
    "- Prime factors are the prime numbers that divide `n` exactly, without leaving a remainder.\n",
    "- If `n` is a prime number, the array should simply contain `n`.\n"
   ]
  },
  {
   "cell_type": "code",
   "execution_count": null,
   "metadata": {},
   "outputs": [],
   "source": [
    "# ## Python: Prime Factors Function\n",
    "\n",
    "def prime_factors(n):\n",
    "    i = 2\n",
    "    factors = []\n",
    "    \n",
    "    # Divide n by i while i divides n exactly\n",
    "    while i * i <= n:\n",
    "        if n % i == 0:\n",
    "            factors.append(i)\n",
    "            n //= i\n",
    "        else:\n",
    "            i += 1\n",
    "    \n",
    "    if n > 1:\n",
    "        factors.append(n)\n",
    "    \n",
    "    return factors\n",
    "\n",
    "# Test the function\n",
    "print(\"Prime factors of 56:\", prime_factors(56))\n",
    "print(\"Prime factors of 13 (a prime number):\", prime_factors(13))\n"
   ]
  },
  {
   "cell_type": "code",
   "execution_count": null,
   "metadata": {
    "vscode": {
     "languageId": "javascript"
    }
   },
   "outputs": [],
   "source": [
    "// ## Java: Prime Factors Function\n",
    "\n",
    "import java.util.ArrayList;\n",
    "\n",
    "public class PrimeFactors {\n",
    "\n",
    "    public static ArrayList<Integer> primeFactors(int n) {\n",
    "        ArrayList<Integer> factors = new ArrayList<>();\n",
    "        int i = 2;\n",
    "\n",
    "        // Find the prime factors of n\n",
    "        while (i * i <= n) {\n",
    "            while (n % i == 0) {\n",
    "                factors.add(i);\n",
    "                n /= i;\n",
    "            }\n",
    "            i++;\n",
    "        }\n",
    "\n",
    "        if (n > 1) {\n",
    "            factors.add(n); // n is prime\n",
    "        }\n",
    "\n",
    "        return factors;\n",
    "    }\n",
    "\n",
    "    public static void main(String[] args) {\n",
    "        System.out.println(\"Prime factors of 56: \" + primeFactors(56));\n",
    "        System.out.println(\"Prime factors of 13 (a prime number): \" + primeFactors(13));\n",
    "    }\n",
    "}\n"
   ]
  }
 ],
 "metadata": {
  "language_info": {
   "name": "python"
  }
 },
 "nbformat": 4,
 "nbformat_minor": 2
}
