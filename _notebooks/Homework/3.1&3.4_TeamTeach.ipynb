{
 "cells": [
  {
   "cell_type": "markdown",
   "metadata": {},
   "source": [
    "## Lesson 3.1.1 (Popcorn) - python\n",
    "- Hack: Make your own variables for members of your team, but follow the naming convention for python"
   ]
  },
  {
   "cell_type": "code",
   "execution_count": null,
   "metadata": {},
   "outputs": [],
   "source": [
    "# Python Variables\n",
    "team_member_1 = \"Rowan Sutherland\"\n",
    "team_member_2 = \"Peyton Sutherland\"\n",
    "team_member_3 = \"Carson Sutherland\"\n",
    "\n",
    "# Print statements\n",
    "print(\"Team Members:\")\n",
    "print(\"1. \" + team_member_1)\n",
    "print(\"2. \" + team_member_2)\n",
    "print(\"3. \" + team_member_3)\n"
   ]
  },
  {
   "cell_type": "markdown",
   "metadata": {},
   "source": [
    "## Lesson 3.1.2 (Popcorn) - Python\n",
    "- Hack: make a dictionary about fruits"
   ]
  },
  {
   "cell_type": "code",
   "execution_count": null,
   "metadata": {},
   "outputs": [],
   "source": [
    "# Python Dictionary\n",
    "fruit_info = {\n",
    "    \"apple\": {\"color\": \"red\", \"taste\": \"sweet\"},\n",
    "    \"banana\": {\"color\": \"yellow\", \"taste\": \"sweet\"},\n",
    "    \"orange\": {\"color\": \"orange\", \"taste\": \"citrus\"}\n",
    "}\n",
    "\n",
    "# Display fruit information\n",
    "for fruit, details in fruit_info.items():\n",
    "    print(f\"{fruit.capitalize()}: Color - {details['color']}, Taste - {details['taste']}\")\n"
   ]
  },
  {
   "cell_type": "markdown",
   "metadata": {},
   "source": [
    "## Lesson 3.1.4 (Popcorn) - java\n",
    "- Hack: Create your own array using 2+ different data types"
   ]
  },
  {
   "cell_type": "code",
   "execution_count": null,
   "metadata": {
    "vscode": {
     "languageId": "html"
    }
   },
   "outputs": [],
   "source": [
    "<script>\n",
    "    // JavaScript Array with multiple data types\n",
    "    let mixedArray = [\"apple\", 23, true, [1, 2, 3], {name: \"banana\", color: \"yellow\"}];\n",
    "    \n",
    "    // Log the array\n",
    "    console.log(\"Mixed Array: \", mixedArray);\n",
    "    element.append(\"Mixed Array: \" + mixedArray.join(\", \"));\n",
    "    </script>\n",
    "    "
   ]
  },
  {
   "cell_type": "markdown",
   "metadata": {},
   "source": [
    "## Lessons 3.4.2 (Popcorn) - Java\n",
    "- Hack: Get the lyrics of a clean song, find how many times the title appears, find index of 50th word, replace first verse w the last verse, concat two verses"
   ]
  },
  {
   "cell_type": "code",
   "execution_count": null,
   "metadata": {
    "vscode": {
     "languageId": "html"
    }
   },
   "outputs": [],
   "source": [
    "<script>\n",
    "    // Example: Song lyrics\n",
    "    let lyrics = \"Row your boat gently down the stream. Merrily merrily merrily merrily, life is but a dream.\";\n",
    "    let songTitle = \"Row\";\n",
    "    \n",
    "    // Count how many times the title appears\n",
    "    let titleCount = lyrics.split(songTitle).length - 1;\n",
    "    console.log(`The title \"${songTitle}\" appears ${titleCount} times.`);\n",
    "    element.append(`The title \"${songTitle}\" appears ${titleCount} times.<br>`);\n",
    "    \n",
    "    // Find the index of the 50th word\n",
    "    let words = lyrics.split(\" \");\n",
    "    if (words.length >= 50) {\n",
    "        console.log(\"The 50th word is:\", words[49]);\n",
    "        element.append(\"The 50th word is: \" + words[49] + \"<br>\");\n",
    "    } else {\n",
    "        console.log(\"There are less than 50 words.\");\n",
    "    }\n",
    "    \n",
    "    // Replace the first verse with the last verse\n",
    "    let verses = lyrics.split(\".\");\n",
    "    let modifiedLyrics = lyrics.replace(verses[0], verses[verses.length - 1]);\n",
    "    console.log(\"Modified Lyrics: \", modifiedLyrics);\n",
    "    \n",
    "    // Concatenate two verses\n",
    "    let newSong = verses[1].trim() + \" \" + verses[2].trim();\n",
    "    console.log(\"New Song: \", newSong);\n",
    "    </script>\n",
    "    "
   ]
  },
  {
   "cell_type": "markdown",
   "metadata": {},
   "source": [
    "## Lesson 3.4.3 (Popcorn) - java\n",
    "- Hack: Concat a flower with an animal to make a new creature and create a short story"
   ]
  },
  {
   "cell_type": "code",
   "execution_count": null,
   "metadata": {
    "vscode": {
     "languageId": "html"
    }
   },
   "outputs": [],
   "source": [
    "<script>\n",
    "    // Concatenating flower and animal\n",
    "    let flower = \"Rose\";\n",
    "    let animal = \"Tiger\";\n",
    "    let newCreature = flower + animal;\n",
    "    \n",
    "    console.log(\"New Creature: \", newCreature);\n",
    "    element.append(\"New Creature: \" + newCreature + \"<br>\");\n",
    "    \n",
    "    // Short Story\n",
    "    let story = `Once upon a time, there was a ${newCreature} that roamed the forest. \\n\n",
    "    Everyone feared the ${newCreature} because it had the beauty of a rose and the strength of a tiger. \\n\n",
    "    One day, a brave child said, \"I'll be friends with the ${newCreature}!\" And from that day, the forest was peaceful.`;\n",
    "    \n",
    "    console.log(\"Short Story:\\n\", story);\n",
    "    element.append(\"Short Story:<br>\" + story.replace(/\\n/g, \"<br>\"));\n",
    "    </script>\n",
    "    "
   ]
  },
  {
   "cell_type": "markdown",
   "metadata": {},
   "source": [
    "## lesson 3.1.3 (Main) - Java\n",
    "- Hack: Define variables automatically using let and const, write console.log() statements and a short function "
   ]
  },
  {
   "cell_type": "code",
   "execution_count": null,
   "metadata": {
    "vscode": {
     "languageId": "html"
    }
   },
   "outputs": [],
   "source": [
    "<script>\n",
    "    // Using let and const\n",
    "    let age = 17;\n",
    "    const name = \"Rowan Sutherland\";\n",
    "    \n",
    "    // Logging variables\n",
    "    console.log(\"Name: \", name);\n",
    "    console.log(\"Age: \", age);\n",
    "    \n",
    "    // Short function to string variables together\n",
    "    function introducePerson() {\n",
    "        return `Hello, my name is ${name} and I am ${age} years old.`;\n",
    "    }\n",
    "    \n",
    "    console.log(introducePerson());\n",
    "    element.append(introducePerson());\n",
    "    </script>\n",
    "    "
   ]
  },
  {
   "cell_type": "markdown",
   "metadata": {},
   "source": [
    "## Lesson 3.1.4 (Main) - Java\n",
    "- Hack: Create an average grade calculator using integers and addition"
   ]
  },
  {
   "cell_type": "code",
   "execution_count": null,
   "metadata": {
    "vscode": {
     "languageId": "html"
    }
   },
   "outputs": [],
   "source": [
    "<script>\n",
    "    // Average grade calculator\n",
    "    let mathGrade = 85;\n",
    "    let scienceGrade = 90;\n",
    "    let englishGrade = 88;\n",
    "    \n",
    "    // Calculate average grade\n",
    "    let averageGrade = (mathGrade + scienceGrade + englishGrade) / 3;\n",
    "    \n",
    "    console.log(\"Average Grade: \", averageGrade);\n",
    "    element.append(\"Average Grade: \" + averageGrade + \"<br>\");\n",
    "    \n",
    "    // Array of student info\n",
    "    let studentInfo = [\n",
    "        { name: \"Rowan\", age: 17, grade: averageGrade },\n",
    "        { name: \"Peyton\", age: 19, grade: 92 }\n",
    "    ];\n",
    "    \n",
    "    // Log student information\n",
    "    studentInfo.forEach(student => {\n",
    "        console.log(\"Student Info: \", student);\n",
    "        element.append(`Name: ${student.name}, Age: ${student.age}, Grade: ${student.grade}<br>`);\n",
    "    });\n",
    "    </script>\n",
    "    "
   ]
  },
  {
   "cell_type": "markdown",
   "metadata": {},
   "source": [
    "## Lesson 3.4.4 (Main) - Java\n",
    "- hack: Create a text analyzer that accepts user input"
   ]
  },
  {
   "cell_type": "code",
   "execution_count": null,
   "metadata": {
    "vscode": {
     "languageId": "html"
    }
   },
   "outputs": [],
   "source": [
    "<script>\n",
    "    // Text Analyzer\n",
    "    function textAnalyzer(inputText) {\n",
    "        // Split text into words\n",
    "        let words = inputText.split(\" \");\n",
    "        console.log(\"Total number of words:\", words.length);\n",
    "        element.append(\"Total number of words: \" + words.length + \"<br>\");\n",
    "    \n",
    "        // Replace first word with last\n",
    "        words[0] = words[words.length - 1];\n",
    "        let modifiedText = words.join(\" \");\n",
    "        console.log(\"Modified Text: \", modifiedText);\n",
    "        element.append(\"Modified Text: \" + modifiedText + \"<br>\");\n",
    "    \n",
    "        // User can replace specific words (extra input system)\n",
    "        let replacedText = modifiedText.replace(\"dream\", \"reality\");\n",
    "        console.log(\"Replaced Word Text: \", replacedText);\n",
    "        element.append(\"Replaced Word Text: \" + replacedText + \"<br>\");\n",
    "    }\n",
    "    \n",
    "    // Example input\n",
    "    let userInput = \"Life is but a dream, and the journey never ends.\";\n",
    "    textAnalyzer(userInput);\n",
    "    </script>\n",
    "    "
   ]
  }
 ],
 "metadata": {
  "language_info": {
   "name": "python"
  }
 },
 "nbformat": 4,
 "nbformat_minor": 2
}
