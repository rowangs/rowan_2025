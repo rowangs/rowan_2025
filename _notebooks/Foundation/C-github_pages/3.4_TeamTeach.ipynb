{
 "cells": [
  {
   "cell_type": "markdown",
   "metadata": {},
   "source": [
    "---\n",
    "layout: post\n",
    "title: 3.4 Team Teach HW\n",
    "description: Homework assigned during Sprint 2 from Classmates\n",
    "categories: [Collaboration]\n",
    "courses: { csse: {week: 3}, csp: {week: 3}, csa: {week: 2} }\n",
    "menu: nav/github_pages.html\n",
    "permalink: /github/pages\n",
    "type: collab\n",
    "comments: true\n",
    "---"
   ]
  },
  {
   "cell_type": "markdown",
   "metadata": {},
   "source": [
    "## Lessons 3.4.2 (Popcorn) - Java\n",
    "- Hack: Get the lyrics of a clean song, find how many times the title appears, find index of 50th word, replace first verse w the last verse, concat two verses"
   ]
  },
  {
   "cell_type": "code",
   "execution_count": null,
   "metadata": {
    "vscode": {
     "languageId": "html"
    }
   },
   "outputs": [],
   "source": [
    "<script>\n",
    "    // Example: Song lyrics\n",
    "    let lyrics = \"Row your boat gently down the stream. Merrily merrily merrily merrily, life is but a dream.\";\n",
    "    let songTitle = \"Row\";\n",
    "    \n",
    "    // Count how many times the title appears\n",
    "    let titleCount = lyrics.split(songTitle).length - 1;\n",
    "    console.log(`The title \"${songTitle}\" appears ${titleCount} times.`);\n",
    "    element.append(`The title \"${songTitle}\" appears ${titleCount} times.<br>`);\n",
    "    \n",
    "    // Find the index of the 50th word\n",
    "    let words = lyrics.split(\" \");\n",
    "    if (words.length >= 50) {\n",
    "        console.log(\"The 50th word is:\", words[49]);\n",
    "        element.append(\"The 50th word is: \" + words[49] + \"<br>\");\n",
    "    } else {\n",
    "        console.log(\"There are less than 50 words.\");\n",
    "    }\n",
    "    \n",
    "    // Replace the first verse with the last verse\n",
    "    let verses = lyrics.split(\".\");\n",
    "    let modifiedLyrics = lyrics.replace(verses[0], verses[verses.length - 1]);\n",
    "    console.log(\"Modified Lyrics: \", modifiedLyrics);\n",
    "    \n",
    "    // Concatenate two verses\n",
    "    let newSong = verses[1].trim() + \" \" + verses[2].trim();\n",
    "    console.log(\"New Song: \", newSong);\n",
    "    </script>\n",
    "    "
   ]
  },
  {
   "cell_type": "markdown",
   "metadata": {},
   "source": [
    "## Lesson 3.4.3 (Popcorn) - java\n",
    "- Hack: Concat a flower with an animal to make a new creature and create a short story"
   ]
  },
  {
   "cell_type": "code",
   "execution_count": null,
   "metadata": {
    "vscode": {
     "languageId": "html"
    }
   },
   "outputs": [],
   "source": [
    "<script>\n",
    "    // Concatenating flower and animal\n",
    "    let flower = \"Rose\";\n",
    "    let animal = \"Tiger\";\n",
    "    let newCreature = flower + animal;\n",
    "    \n",
    "    console.log(\"New Creature: \", newCreature);\n",
    "    element.append(\"New Creature: \" + newCreature + \"<br>\");\n",
    "    \n",
    "    // Short Story\n",
    "    let story = `Once upon a time, there was a ${newCreature} that roamed the forest. \\n\n",
    "    Everyone feared the ${newCreature} because it had the beauty of a rose and the strength of a tiger. \\n\n",
    "    One day, a brave child said, \"I'll be friends with the ${newCreature}!\" And from that day, the forest was peaceful.`;\n",
    "    \n",
    "    console.log(\"Short Story:\\n\", story);\n",
    "    element.append(\"Short Story:<br>\" + story.replace(/\\n/g, \"<br>\"));\n",
    "    </script>\n",
    "    "
   ]
  },
  {
   "cell_type": "markdown",
   "metadata": {},
   "source": [
    "## Lesson 3.4.4 (Main) - Java\n",
    "- hack: Create a text analyzer that accepts user input"
   ]
  },
  {
   "cell_type": "code",
   "execution_count": null,
   "metadata": {
    "vscode": {
     "languageId": "html"
    }
   },
   "outputs": [],
   "source": [
    "<script>\n",
    "    // Text Analyzer\n",
    "    function textAnalyzer(inputText) {\n",
    "        // Split text into words\n",
    "        let words = inputText.split(\" \");\n",
    "        console.log(\"Total number of words:\", words.length);\n",
    "        element.append(\"Total number of words: \" + words.length + \"<br>\");\n",
    "    \n",
    "        // Replace first word with last\n",
    "        words[0] = words[words.length - 1];\n",
    "        let modifiedText = words.join(\" \");\n",
    "        console.log(\"Modified Text: \", modifiedText);\n",
    "        element.append(\"Modified Text: \" + modifiedText + \"<br>\");\n",
    "    \n",
    "        // User can replace specific words (extra input system)\n",
    "        let replacedText = modifiedText.replace(\"dream\", \"reality\");\n",
    "        console.log(\"Replaced Word Text: \", replacedText);\n",
    "        element.append(\"Replaced Word Text: \" + replacedText + \"<br>\");\n",
    "    }\n",
    "    \n",
    "    // Example input\n",
    "    let userInput = \"Life is but a dream, and the journey never ends.\";\n",
    "    textAnalyzer(userInput);\n",
    "    </script>\n",
    "    "
   ]
  }
 ],
 "metadata": {
  "language_info": {
   "name": "python"
  }
 },
 "nbformat": 4,
 "nbformat_minor": 2
}
