{
 "cells": [
  {
   "cell_type": "markdown",
   "metadata": {},
   "source": [
    "\n",
    "# Problem #1 - Grocery List Manager\n",
    "\n",
    "### Objective:\n",
    "Create a simple program to manage a grocery list."
   ]
  },
  {
   "cell_type": "code",
   "execution_count": null,
   "metadata": {},
   "outputs": [],
   "source": [
    "# Step 1: Create an empty list to store grocery items\n",
    "grocery_list = []\n",
    "\n",
    "# Step 2: Input three grocery items and add them to the list\n",
    "for _ in range(3):\n",
    "    item = input(\"Enter a grocery item: \")\n",
    "    grocery_list.append(item)\n",
    "\n",
    "# Step 3: Display the current grocery list after all items are added\n",
    "print(\"Current grocery list:\", grocery_list)\n",
    "\n",
    "# Step 4: Sort the list alphabetically and print the sorted list\n",
    "grocery_list.sort()\n",
    "print(\"Sorted grocery list:\", grocery_list)\n",
    "\n",
    "# Step 5: Remove one item specified by the user and display the updated list\n",
    "item_to_remove = input(\"Enter an item to remove from the list: \")\n",
    "grocery_list.remove(item_to_remove)\n",
    "print(\"Updated grocery list:\", grocery_list)\n"
   ]
  },
  {
   "cell_type": "markdown",
   "metadata": {},
   "source": [
    "\n",
    "# Problem #2 - Filtering Even Numbers\n",
    "\n",
    "### Objective:\n",
    "Create a list of numbers and filter for even numbers."
   ]
  },
  {
   "cell_type": "code",
   "execution_count": null,
   "metadata": {},
   "outputs": [],
   "source": [
    "# Step 1: Create a list of integers from 1 to 20\n",
    "numbers = list(range(1, 21))\n",
    "\n",
    "# Step 2: Print the original list\n",
    "print(\"Original list of numbers:\", numbers)\n",
    "\n",
    "# Step 3: Create a new list that contains only the even numbers using list comprehension\n",
    "even_numbers = [num for num in numbers if num % 2 == 0]\n",
    "\n",
    "# Step 4: Print the list of even numbers\n",
    "print(\"List of even numbers:\", even_numbers)\n"
   ]
  },
  {
   "cell_type": "markdown",
   "metadata": {},
   "source": [
    "\n",
    "# Problem #3 - Student Grades Manager\n",
    "\n",
    "### Objective:\n",
    "Write a program that manages a list of student grades."
   ]
  },
  {
   "cell_type": "code",
   "execution_count": null,
   "metadata": {},
   "outputs": [],
   "source": [
    "# Step 1: Create an empty list to store student grades\n",
    "grades = []\n",
    "\n",
    "# Step 2: Input three grades (as integers) and add them to the list\n",
    "for _ in range(3):\n",
    "    grade = int(input(\"Enter a student grade: \"))\n",
    "    grades.append(grade)\n",
    "\n",
    "# Step 3: Print the list of grades after all grades are entered\n",
    "print(\"List of grades:\", grades)\n",
    "\n",
    "# Step 4: Create a new list that contains only grades above 60 and print this list\n",
    "passing_grades = [grade for grade in grades if grade > 60]\n",
    "print(\"Grades above 60:\", passing_grades)\n"
   ]
  },
  {
   "cell_type": "markdown",
   "metadata": {},
   "source": [
    "\n",
    "# Problem #4 - Number List Operations\n",
    "\n",
    "### Objective:\n",
    "Create a list of numbers and perform basic operations."
   ]
  },
  {
   "cell_type": "code",
   "execution_count": null,
   "metadata": {},
   "outputs": [],
   "source": [
    "# Step 1: Create a list of numbers from 1 to 10\n",
    "numbers = list(range(1, 11))\n",
    "\n",
    "# Step 2: Print the original list\n",
    "print(\"Original list:\", numbers)\n",
    "\n",
    "# Step 3: Sort the list in descending order\n",
    "numbers.sort(reverse=True)\n",
    "print(\"List in descending order:\", numbers)\n",
    "\n",
    "# Step 4: Slice the list to get the first five numbers and print them\n",
    "first_five = numbers[:5]\n",
    "print(\"First five numbers:\", first_five)\n",
    "\n",
    "# Step 5: Sort the list again in ascending order and print it\n",
    "numbers.sort()\n",
    "print(\"List in ascending order:\", numbers)\n"
   ]
  },
  {
   "cell_type": "markdown",
   "metadata": {},
   "source": [
    "# JavaScript Homework\n",
    "\n",
    "### Problem #1: Basic Array Creation\n",
    "\n",
    "Objective:\n",
    "- Create an array in JavaScript with at least 5 values.\n",
    "- Use `console.log()` to display the array.\n",
    "\n",
    "Bonus:\n",
    "- Use the `reverse()` popcorn hack to reverse your array.\n"
   ]
  },
  {
   "cell_type": "code",
   "execution_count": null,
   "metadata": {
    "vscode": {
     "languageId": "javascript"
    }
   },
   "outputs": [],
   "source": [
    "%%js \n",
    "// Step 1: Create an array with at least 5 values\n",
    "let myArray = [10, 20, 30, 40, 50];\n",
    "\n",
    "// Step 2: Display the array\n",
    "console.log(\"Original array:\", myArray);\n",
    "\n",
    "// Bonus: Use the reverse() hack to reverse the array\n",
    "myArray.reverse();\n",
    "console.log(\"Reversed array:\", myArray);\n"
   ]
  },
  {
   "cell_type": "markdown",
   "metadata": {},
   "source": [
    "\n",
    "\n",
    "### Problem #2: Accessing Elements\n",
    "\n",
    "Objective:\n",
    "- Given the array `sports = [\"soccer\", \"football\", \"basketball\", \"wrestling\", \"swimming\"]`, display the values \"soccer\" and \"wrestling\" using their indexes.\n"
   ]
  },
  {
   "cell_type": "code",
   "execution_count": null,
   "metadata": {
    "vscode": {
     "languageId": "javascript"
    }
   },
   "outputs": [],
   "source": [
    "%%js \n",
    "// Step 1: Create the sports array\n",
    "let sports = [\"soccer\", \"football\", \"basketball\", \"wrestling\", \"swimming\"];\n",
    "\n",
    "// Step 2: Access and display the elements \"soccer\" and \"wrestling\"\n",
    "console.log(\"First sport:\", sports[0]);  // soccer\n",
    "console.log(\"Fourth sport:\", sports[3]);  // wrestling\n"
   ]
  },
  {
   "cell_type": "markdown",
   "metadata": {},
   "source": [
    "\n",
    "\n",
    "### Problem #3: Adding and Removing Items\n",
    "\n",
    "Objective:\n",
    "- Create an array called `choresList` initialized with four items of your choice.\n",
    "- Use `push()`, `shift()`, `pop()`, and `unshift()` to change the list.\n",
    "- Use `console.log()` to display the output each time the list changes.\n",
    "\n",
    "Bonus:\n",
    "- Use the `push()` and spread operator popcorn hack to add multiple values to your `choresList` at once.\n"
   ]
  },
  {
   "cell_type": "code",
   "execution_count": null,
   "metadata": {
    "vscode": {
     "languageId": "javascript"
    }
   },
   "outputs": [],
   "source": [
    "%%js \n",
    "// Step 1: Create the choresList array with 4 items\n",
    "let choresList = [\"dishes\", \"laundry\", \"vacuuming\", \"dusting\"];\n",
    "\n",
    "// Step 2: Add an item using push()\n",
    "choresList.push(\"groceries\");\n",
    "console.log(\"After push:\", choresList);\n",
    "\n",
    "// Step 3: Remove the first item using shift()\n",
    "choresList.shift();\n",
    "console.log(\"After shift:\", choresList);\n",
    "\n",
    "// Step 4: Remove the last item using pop()\n",
    "choresList.pop();\n",
    "console.log(\"After pop:\", choresList);\n",
    "\n",
    "// Step 5: Add an item to the beginning using unshift()\n",
    "choresList.unshift(\"cooking\");\n",
    "console.log(\"After unshift:\", choresList);\n",
    "\n",
    "// Bonus: Use push() and spread operator to add multiple items\n",
    "choresList.push(...[\"trash\", \"mopping\"]);\n",
    "console.log(\"After adding multiple items with spread operator:\", choresList);\n"
   ]
  },
  {
   "cell_type": "markdown",
   "metadata": {},
   "source": [
    "\n",
    "\n",
    "### Problem #4: Iteration and Conditionals\n",
    "\n",
    "Objective:\n",
    "- Create an array that contains ten random numbers (both even and odd).\n",
    "- Write a function that iterates through the array and counts how many even numbers appear.\n",
    "- Return the count and display the output using `console.log()`.\n"
   ]
  },
  {
   "cell_type": "code",
   "execution_count": null,
   "metadata": {
    "vscode": {
     "languageId": "javascript"
    }
   },
   "outputs": [],
   "source": [
    "%%js \n",
    "// Step 1: Create an array with 10 random numbers\n",
    "let randomNumbers = [3, 4, 7, 12, 19, 22, 25, 30, 33, 40];\n",
    "\n",
    "// Step 2: Function to count even numbers\n",
    "function countEvenNumbers(arr) {\n",
    "    let count = 0;\n",
    "    for (let i = 0; i < arr.length; i++) {\n",
    "        if (arr[i] % 2 === 0) {\n",
    "            count++;\n",
    "        }\n",
    "    }\n",
    "    return count;\n",
    "}\n",
    "\n",
    "// Step 3: Display the count of even numbers\n",
    "console.log(\"Number of even numbers:\", countEvenNumbers(randomNumbers));\n"
   ]
  }
 ],
 "metadata": {
  "language_info": {
   "name": "python"
  }
 },
 "nbformat": 4,
 "nbformat_minor": 2
}
