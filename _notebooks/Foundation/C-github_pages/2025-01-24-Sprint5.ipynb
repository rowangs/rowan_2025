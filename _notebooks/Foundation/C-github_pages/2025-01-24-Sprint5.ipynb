{
 "cells": [
  {
   "cell_type": "markdown",
   "metadata": {},
   "source": [
    "---\n",
    "layout: post\n",
    "title: Sprint 5 Personal Blog\n",
    "description: personal blog for sprint 5\n",
    "permalink: /sprint5/\n",
    "comments: true\n",
    "---"
   ]
  },
  {
   "cell_type": "markdown",
   "metadata": {},
   "source": [
    "## Static Data Fetching from Back to Frontend"
   ]
  },
  {
   "cell_type": "code",
   "execution_count": null,
   "metadata": {},
   "outputs": [],
   "source": []
  },
  {
   "cell_type": "markdown",
   "metadata": {},
   "source": [
    "## Dynamic Data Fetching in a Table in Backend\n",
    "\n",
    "### Goals: \n",
    " - Ensure no profanity is left in chatroom\n",
    " - Censor profanity from messages "
   ]
  },
  {
   "cell_type": "code",
   "execution_count": null,
   "metadata": {},
   "outputs": [],
   "source": [
    "def initCensor():\n",
    "\n",
    "    with app.app_context():\n",
    "\n",
    "        \"\"\"Create database and tables\"\"\"\n",
    "        db.create_all()\n",
    "        \"\"\"Tester data for table\"\"\"\n",
    "       \n",
    "        c1 = Censor(\n",
    "            name='John Doe',\n",
    "            uid='johndoe123',\n",
    "            submission_text='This is a test message with inappropriate content.',\n",
    "            censored_text='This is a test message with ******** content.',\n",
    "            submission_date=datetime.strptime('2025-01-17', '%Y-%m-%d').date(),  # Convert string to date object\n",
    "            flagged_words='inappropriate'\n",
    "        )\n",
    "        c2 = Censor(\n",
    "            name='Jane Smith',\n",
    "            uid='janesmith456',\n",
    "            submission_text='Hello! This is an example of another submission.',\n",
    "            censored_text='Hello! This is an example of another submission.',\n",
    "            submission_date=datetime.strptime('2025-01-17', '%Y-%m-%d').date(),  # Convert string to date object\n",
    "            flagged_words=''\n",
    "        )\n",
    "        c3 = Censor(\n",
    "            name='Alice Brown',\n",
    "            uid='alicebrown789',\n",
    "            submission_text='Some inappropriate language here!',\n",
    "            censored_text='Some ******** language here!',\n",
    "            submission_date=datetime.strptime('2025-01-17', '%Y-%m-%d').date(),  # Convert string to date object\n",
    "            flagged_words='inappropriate'\n",
    "        )\n",
    "        c4 = Censor(\n",
    "            name='Bob White',\n",
    "            uid='bobwhite101',\n",
    "            submission_text='This is a clean message with no issues.',\n",
    "            censored_text='This is a clean message with no issues.',\n",
    "            submission_date=datetime.strptime('2025-01-17', '%Y-%m-%d').date(),  # Convert string to date object\n",
    "            flagged_words=''\n",
    "        )\n",
    "\n",
    "        censors = [c1, c2, c3, c4]\n",
    "       \n",
    "        for censor in censors:\n",
    "            try:\n",
    "                censor.create()\n",
    "            except IntegrityError:\n",
    "                '''fails with bad or duplicate data'''\n",
    "                db.session.remove()"
   ]
  }
 ],
 "metadata": {
  "language_info": {
   "name": "python"
  }
 },
 "nbformat": 4,
 "nbformat_minor": 2
}
