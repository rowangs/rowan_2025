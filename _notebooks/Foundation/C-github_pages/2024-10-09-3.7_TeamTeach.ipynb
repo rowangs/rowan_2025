{
 "cells": [
  {
   "cell_type": "markdown",
   "metadata": {},
   "source": [
    "## Popcorn Hack #1\n",
    "- add an additional condition for hiking (like location_determined or miles_in_the_hike)\n"
   ]
  },
  {
   "cell_type": "code",
   "execution_count": 4,
   "metadata": {},
   "outputs": [
    {
     "name": "stdout",
     "output_type": "stream",
     "text": [
      "The weather is sunny\n",
      "Your transportation is available\n",
      "Your boots are present\n",
      "your coat has holes :/\n",
      "You need to sew it. \n"
     ]
    }
   ],
   "source": [
    "\n",
    "weather = \"sunny\"\n",
    "transportation = \"available\"\n",
    "boots = \"present\"\n",
    "coat = \"has holes :/\"\n",
    "\n",
    "print(\"The weather is \" + weather)\n",
    "print(\"Your transportation is \" + transportation)\n",
    "print(\"Your boots are \" + boots)\n",
    "print(\"your coat \" + coat)\n",
    "\n",
    "\n",
    "if weather == \"sunny\":\n",
    "    if transportation == \"available\":\n",
    "        if boots == \"present\":\n",
    "            if coat == \"mended\":\n",
    "                print(\"You are ready to go hiking!\")\n",
    "            else:\n",
    "                print(\"You need to sew it. \")\n",
    "        else:\n",
    "            print(\"You need to find your boots first.\")\n",
    "    else:\n",
    "        print(\"You need to arrange transportation.\")\n",
    "else:\n",
    "    print(\"It's not good weather for hiking.\")"
   ]
  },
  {
   "cell_type": "markdown",
   "metadata": {},
   "source": [
    "## Popcorn Hack #2\n",
    "- Try changing some of the defined booleans and see what values you get!!"
   ]
  },
  {
   "cell_type": "code",
   "execution_count": 5,
   "metadata": {},
   "outputs": [
    {
     "name": "stdout",
     "output_type": "stream",
     "text": [
      "You're ready to host the movie!\n"
     ]
    }
   ],
   "source": [
    "living_room_available = True\n",
    "projector_working = True\n",
    "enough_snacks = True\n",
    "\n",
    "if living_room_available:\n",
    "    if projector_working:\n",
    "        if enough_snacks:\n",
    "            print(\"You're ready to host the movie!\")\n",
    "        else:\n",
    "            print(\"You need to get more snacks. Ideas: Popcorn, Candy, Soda\")\n",
    "    else:\n",
    "        print(\"fix projecter\")\n",
    "else:\n",
    "    print(\"find a new location!\")"
   ]
  },
  {
   "cell_type": "markdown",
   "metadata": {},
   "source": [
    "## HOMEWORK HACK #1"
   ]
  },
  {
   "cell_type": "code",
   "execution_count": 8,
   "metadata": {},
   "outputs": [
    {
     "name": "stdout",
     "output_type": "stream",
     "text": [
      "The weather is sunny\n",
      "Your suncreen is full\n",
      "You have no snacks\n",
      "You need to go get more snackies.\n"
     ]
    }
   ],
   "source": [
    "\n",
    "weather = \"sunny\"\n",
    "sunscreen = \"full\"\n",
    "snacks = \"no snacks\"\n",
    "\n",
    "print(\"The weather is \" + weather)\n",
    "print(\"Your suncreen is \" + sunscreen)\n",
    "print(\"You have \" + snacks)\n",
    "\n",
    "\n",
    "if weather == \"sunny\":\n",
    "    if sunscreen == \"full\":\n",
    "        if snacks == \"enough snacks\":\n",
    "                print(\"You are ready to go hiking!\")\n",
    "        else:\n",
    "            print(\"You need to go get more snackies.\")\n",
    "    else:\n",
    "        print(\"You need to buy new sunscreen.\")\n",
    "else:\n",
    "    print(\"It's not good weather for hiking.\")"
   ]
  },
  {
   "cell_type": "code",
   "execution_count": 10,
   "metadata": {},
   "outputs": [
    {
     "name": "stdout",
     "output_type": "stream",
     "text": [
      "You can adopt the pet!\n"
     ]
    }
   ],
   "source": [
    "# Variables to store user's age, home space, and availability\n",
    "age = int(input(\"Enter your age: \"))\n",
    "home_space = float(input(\"Enter the space in your home (in square feet): \"))\n",
    "available_to_care = input(\"Are you available to take care of the pet? (yes/no): \").lower() == \"yes\"\n",
    "\n",
    "# Check if the conditions for adopting a pet are met\n",
    "if age < 18:\n",
    "    print(\"You must be at least 18 to adopt a pet.\")\n",
    "elif home_space <= 50:\n",
    "    print(\"You need a bigger home to adopt a pet.\")\n",
    "elif not available_to_care:\n",
    "    print(\"You need to make time to take care of the pet.\")\n",
    "else:\n",
    "    print(\"You can adopt the pet!\")\n"
   ]
  },
  {
   "cell_type": "markdown",
   "metadata": {},
   "source": [
    "## HW Hack #3"
   ]
  },
  {
   "cell_type": "code",
   "execution_count": 11,
   "metadata": {},
   "outputs": [
    {
     "name": "stdout",
     "output_type": "stream",
     "text": [
      "You are ready for the marathon!\n"
     ]
    }
   ],
   "source": [
    "# Variables to store the conditions\n",
    "weather_clear = input(\"Is the weather clear? (yes/no): \").lower() == \"yes\"\n",
    "has_running_shoes = input(\"Do you have running shoes? (yes/no): \").lower() == \"yes\"\n",
    "practice_days = int(input(\"How many days have you practiced?: \"))\n",
    "\n",
    "# Check the conditions for participating in the marathon\n",
    "if not weather_clear:\n",
    "    print(\"It's not the right time for the marathon due to the weather.\")\n",
    "elif not has_running_shoes:\n",
    "    print(\"You need to buy shoes first.\")\n",
    "elif practice_days < 10:\n",
    "    print(\"You need to practice more.\")\n",
    "else:\n",
    "    print(\"You are ready for the marathon!\")\n"
   ]
  },
  {
   "cell_type": "markdown",
   "metadata": {},
   "source": [
    "## Python Quiz\n",
    "\n",
    "1.) B; you need permission to enter\n",
    "\n",
    "2.) B; x is positive but y is not\n",
    "\n",
    "3.) C; Its too cold."
   ]
  }
 ],
 "metadata": {
  "kernelspec": {
   "display_name": "venv",
   "language": "python",
   "name": "python3"
  },
  "language_info": {
   "codemirror_mode": {
    "name": "ipython",
    "version": 3
   },
   "file_extension": ".py",
   "mimetype": "text/x-python",
   "name": "python",
   "nbconvert_exporter": "python",
   "pygments_lexer": "ipython3",
   "version": "3.12.3"
  }
 },
 "nbformat": 4,
 "nbformat_minor": 2
}
