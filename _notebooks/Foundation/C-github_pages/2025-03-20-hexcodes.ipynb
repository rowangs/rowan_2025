{
 "cells": [
  {
   "cell_type": "markdown",
   "metadata": {},
   "source": [
    "layout: post\n",
    "title: Color Codes, Hex Codes, Base 64\n",
    "description: My Lesson!\n",
    "permalink: /hexcodes/\n",
    "comments: true"
   ]
  },
  {
   "cell_type": "code",
   "execution_count": null,
   "metadata": {},
   "outputs": [],
   "source": []
  },
  {
   "cell_type": "markdown",
   "metadata": {},
   "source": [
    "# 🎨 Lesson: Color Codes, Images, and Base64\n",
    "\n",
    "## 🎯 Objective\n",
    "By the end of this lesson, you will be able to:\n",
    "- Understand RGB and Hex color codes.\n",
    "- Describe how digital images are made of colored pixels.\n",
    "- Understand and use Base64 encoding for images.\n",
    "\n",
    "---\n",
    "\n",
    "## 🌈 Understanding Color Representation\n",
    "\n",
    "### 🟥 RGB Color Codes\n",
    "\n",
    "RGB = Red, Green, Blue  \n",
    "Each component ranges from 0–255.\n",
    "\n",
    "Examples:\n"
   ]
  },
  {
   "cell_type": "code",
   "execution_count": null,
   "metadata": {},
   "outputs": [],
   "source": [
    "# RGB examples\n",
    "red = (255, 0, 0)\n",
    "green = (0, 255, 0)\n",
    "blue = (0, 0, 255)\n",
    "\n",
    "print(\"Red:\", red)\n",
    "print(\"Green:\", green)\n",
    "print(\"Blue:\", blue)\n"
   ]
  },
  {
   "cell_type": "markdown",
   "metadata": {},
   "source": [
    "### 🔢 Hexadecimal (Hex) Color Codes\n",
    "\n",
    "Hex is the base-16 version of RGB:\n",
    "- Red = `#FF0000`\n",
    "- Green = `#00FF00`\n",
    "- Blue = `#0000FF`\n",
    "\n",
    "Each pair of hex digits represents one RGB value (R, G, B).\n",
    "\n",
    "### 🍿 Popcorn Hack #1\n",
    "\n",
    "Use an online color picker (like Google or [colorpicker.me](https://colorpicker.me/)).  \n",
    "Pick your favorite color and write down its RGB and Hex code.\n",
    "\n",
    "### 🍿 Popcorn Hack #2\n",
    "> Challenge: Can you guess the hex code for **purple**?  \n",
    "> **Hint:** It’s a mix of red and blue.\n",
    "\n",
    "---\n",
    "\n",
    "## 🧩 3. How Images Work\n",
    "\n",
    "Digital images are made of **pixels**, each with a color value.\n",
    "\n",
    "Let’s simulate a tiny image (3x3 pixels) using RGB values:\n"
   ]
  },
  {
   "cell_type": "code",
   "execution_count": null,
   "metadata": {},
   "outputs": [],
   "source": [
    "# Simulating a 3x3 pixel image using RGB values\n",
    "image = [\n",
    "    [(255, 0, 0), (0, 255, 0), (0, 0, 255)],\n",
    "    [(255, 255, 0), (0, 255, 255), (255, 0, 255)],\n",
    "    [(128, 128, 128), (255, 255, 255), (0, 0, 0)]\n",
    "]\n",
    "\n",
    "for row in image:\n",
    "    print(row)\n"
   ]
  },
  {
   "cell_type": "markdown",
   "metadata": {},
   "source": [
    "Each row is a line of pixels.\n",
    "Each color is stored using RGB values.\n",
    "\n",
    "---\n",
    "\n",
    "## 🔐 4. What is Base64 Encoding?\n",
    "\n",
    "**Base64** turns binary (image) data into **text**.\n",
    "\n",
    "Used to:\n",
    "- Embed images directly into HTML or emails\n",
    "- Avoid separate file uploads\n",
    "\n",
    "Let’s try it on a small image.\n",
    "\n",
    "---\n",
    "\n",
    "### 🛠️ Base64 Example\n",
    "Convert an image to Base64 using Python:\n"
   ]
  },
  {
   "cell_type": "code",
   "execution_count": null,
   "metadata": {},
   "outputs": [],
   "source": [
    "import base64\n",
    "\n",
    "# Read image as bytes\n",
    "with open(\"example.png\", \"rb\") as image_file:\n",
    "    encoded_string = base64.b64encode(image_file.read())\n",
    "\n",
    "# Print a short version\n",
    "print(encoded_string[:100])  # first 100 characters of Base64 string\n"
   ]
  },
  {
   "cell_type": "markdown",
   "metadata": {},
   "source": [
    "> The result is a long string of letters, numbers, and symbols — a text version of the image!\n",
    "\n",
    "---\n",
    "\n",
    "## 🍿 5. Popcorn Hack #3\n",
    "\n",
    "**Decode a Base64 string** and display it.\n",
    "\n",
    "Try this sample:\n"
   ]
  },
  {
   "cell_type": "code",
   "execution_count": null,
   "metadata": {},
   "outputs": [],
   "source": [
    "import base64\n",
    "\n",
    "# Sample Base64 string (represents the word \"hello\")\n",
    "sample = \"aGVsbG8=\"\n",
    "\n",
    "decoded = base64.b64decode(sample)\n",
    "print(\"Decoded string:\", decoded.decode(\"utf-8\"))\n"
   ]
  },
  {
   "cell_type": "markdown",
   "metadata": {},
   "source": [
    "### 🍿 Popcorn Hack #4\n",
    "- Go to a Base64 decoder like [base64decode.org](https://www.base64decode.org/)\n",
    "- Paste in a longer string (from a converted image) and see what happens!\n",
    "\n",
    "---\n",
    "\n",
    "## ✅ Wrap-Up: What Did You Learn? Homework Hack #1\n",
    "\n",
    "- What does `#00FF00` mean?\n",
    "- What is RGB?\n",
    "- Why might someone use Base64 for an image?\n",
    "\n",
    "---\n",
    "\n",
    "## 📝 Homework Hack #2\n",
    "\n",
    "Find the **Hex code** of your favorite color and explain what its RGB values are.\n",
    "\n",
    "If you’d like, try converting a **tiny image** into Base64 and include it in a basic HTML page.\n",
    "\n",
    "---\n",
    "\n",
    "# 💡 End of Lesson\n"
   ]
  }
 ],
 "metadata": {
  "language_info": {
   "name": "python"
  }
 },
 "nbformat": 4,
 "nbformat_minor": 2
}
