{
 "cells": [
  {
   "cell_type": "markdown",
   "metadata": {},
   "source": [
    "## Calm luh blog 11/18/2024\n"
   ]
  },
  {
   "cell_type": "markdown",
   "metadata": {},
   "source": [
    "### what I learned:\n",
    "- I learned that collaboration is key to success in this class, because when i didn't know something I was able to ask my teammates/sister if they knew what the question entailed. I also learned the value of common sense, because alot of the questions were just that. Also, I learned that there was a lot of stats. \n",
    "\n",
    "### weak points\n",
    "- I was weak on the more technical questions. The conceptual and common sense ones were easy for me, having taken previous classes like them, but when I had to think through the actual code it was harder. I also noticed that the stuff that my classmates taught that were actually engaging were easy for me to complete, but then the ones who had boring lessons didn't end up as good topics for me for the ap classroom test. \n",
    "\n",
    "### corrections:\n",
    "- Q6: A\n",
    "- Q11: D\n",
    "- Q25: B\n",
    "- Q31: C\n",
    "- Q33: A\n",
    "- Q37: C\n",
    "- Q43: A\n",
    "- Q44: B\n",
    "- Q52: D\n",
    "- Q54: D\n",
    "- Q56: D\n",
    "- Q57: B\n",
    "- Q58: A\n",
    "- Q59: B\n",
    "- Q60: A+D\n",
    "- Q61: A+B\n",
    "- Q62: C+D\n",
    "- Q63: B+D\n",
    "- Q66: C+D\n",
    "- Unfortunately, for the questions past 60, I only got 1 of the options right at a time. This made me realize that I need to understand multiple functions of code.  \n",
    "\n",
    "\n"
   ]
  }
 ],
 "metadata": {
  "language_info": {
   "name": "python"
  }
 },
 "nbformat": 4,
 "nbformat_minor": 2
}
