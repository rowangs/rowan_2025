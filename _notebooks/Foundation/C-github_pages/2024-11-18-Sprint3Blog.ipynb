{
 "cells": [
  {
   "cell_type": "markdown",
   "metadata": {},
   "source": [
    "# Reflection\n"
   ]
  },
  {
   "cell_type": "markdown",
   "metadata": {},
   "source": [
    "### what I learned:\n",
    "- I learned that collaboration is key to success in this class, because when i didn't know something I was able to ask my teammates/sister if they knew what the question entailed. I also learned the value of common sense, because alot of the questions were just that. Also, I learned that there was a lot of stats. \n",
    "\n",
    "### weak points\n",
    "- I was weak on the more technical questions. The conceptual and common sense ones were easy for me, having taken previous classes like them, but when I had to think through the actual code it was harder. I also noticed that the stuff that my classmates taught that were actually engaging were easy for me to complete, but then the ones who had boring lessons didn't end up as good topics for me for the ap classroom test. \n",
    "\n",
    "### corrections:\n",
    "- Q6: A; The IETF develops and oversees standards such as hypertext transfer protocol (HTTP), Internet protocol (IP), and simple mail transfer protocol (SMTP).\n",
    "- Q11: D; The code segment selects \"Yellow\" one-sixth of the time, \"Blue\" one-sixth of the time, and \"Red\" the remaining two-thirds of the time.\n",
    "- Q25: B; It is not possible to use byte pair encoding in the string Open quotation, LEVEL, underscore, UP, close quotationbecause no pair of characters appears in the string more than once.\n",
    "- Q31: C; Program I correctly moves the robot to the gray square by repeatedly moving the robot forward, rotating left, moving forward, and rotating right. Program II correctly moves the robot to the gray square by moving the robot forward to the upper-right corner of the grid, rotating left, and moving forward to the upper-left corner of the grid.\n",
    "- Q33: A; The flowchart sets include to true whenever floor is greater than 1 0 or bedrooms equal 3, and sets include to false otherwise. Therefore, the algorithm is equivalent to     Include, left arrow, open parenthesis, floor greater than 10, close parenthesis, OR, open parenthesis, bedrooms equal 3, close parenthesis.\n",
    "- Q37: C; Both code segments display the correct average. Code segment I requires more arithmetic operations because it performs the operation sum divided by LENGTH, open parenthesis, num List, close parenthesis within the loop, while code segment II performs the same operation only once.\n",
    "- Q43: A; The pattern in the table appears to indicate that there are n squared steps for a list containing n items. This number of steps is a polynomial and therefore the algorithm runs in reasonable time. \n",
    "- Q44: B; With a 4-bit integer representation, 2 to the fourth power values can be represented, which allows for the values between 0 to 1 5, inclusive. If an operation results in a value greater than 1 5, an overflow error will occur. Of the operations given in the options, only 10 plus 7 gives a result larger than 1 5.\n",
    "- Q52: D; Options II and III perform the steps in a correct order. In order to generate the desired list, the algorithm must perform the \"shorten\" step after the \"keep palindromes\" step, otherwise the \"keep palindromes\" step would not be able to determine whether the original word was a palindrome.\n",
    "- Q54: D; The procedures square and cube are each used to determine a power of n. A generalization of this procedure is Power, open parenthesis, n comma m, close parenthesis, which calculates n raised to the mpower.\n",
    "- Q56: D; The value of count starts at 1 and increases by twos, so it counts odd integers. The loop iterates 10 times, adding each intermediate value of count each time. Therefore, the program displays the sum of the odd integers starting at 1 and ending at 19.\n",
    "- Q57: B; This expression concatenates the first two letters of Open quotation, Harp, close quotation with the last three letters of Open quotation, puppy, close quotation, resulting in Open quotation, Happy, close quotation.\n",
    "- Q58: A;  The Internet can provide tools, information, and knowledge to crowdsourcing participants and can lower geographic barriers to potential participants. However, there exist problems that cannot be solved in reasonable time, even with a distributed approach.\n",
    "- Q59: B;  Using lossy compression will provide only an approximation of the original video data. The full-quality original versions of the videos will be lost if lossy compression is used.\n",
    "- Q60: A+D;  Placing repeated code with procedure calls is an example of a procedural abstraction that may make it easier for a programmer to manage the complexity of a program. Creating a list of names is an example of a data abstraction that may make it easier for a programmer to manage the complexity of a program.\n",
    "- Q61: A+B; It is possible to create a single list of student names, sorted by last name. Both data formats provide the first and last names of each student.  It is possible to create a single list of student names, sorted by last name. Both data formats provide the first and last names of each student.\n",
    "- Q62: C+D;  As any user has the ability to edit articles, there will be many opportunities for people with different perspectives to contribute. The online encyclopedia can be edited at any time, so it is easy to create or update articles as new information becomes available.\n",
    "- Q63: B+D; If count is set to 0 repeatedly inside the loop, it will not provide an accurate count of the number of prime numbers in the list. If count is incremented outside the IF statement, it will increase for all entries in the list instead of just the prime entries. \n",
    "- Q66: C+D; The procedure returns the first number it encounters that is less than the first number in the list. For the list open bracket, 30, 40, 20, 10, close bracket, the procedure returns 2 0, which is not the least value in the list.The procedure returns the first number it encounters that is less than the first number in the list. For the list open bracket, 40, 30, 20, 10, close bracket, the procedure returns 3 0, which is not the least value in the list. \n",
    "\n",
    "\n",
    "### The topic that I struggled the most with was Data Compression, topic 2.2.\n",
    "- Out of the 3 questions that I was given, I only got 1 right. This demonstrates my weakness in the area, and how my interpretation of code is not at all the most efficient course of action. Data compression is the process of encoding, restructuring or otherwise modifying data in order to reduce its size.\n",
    "\n",
    "- I was also not very good at identifying and correcting errors. I find that this is because I am not familiar with the perfect syntax and code etiquette. If I'm being honest, I do the code and mess around with the spacing until it lights up, usually. And if it says that I have a specific syntax error I ask other people or gemini for help in where the error is. \n",
    "\n",
    "- Iteration and developing algorithms were also rather weak areas for me, likely due to those topics being taught to me by my peers. I found that the topic of Lists was very strong for me, and thats likely due to the fact that I was the one who taught that along with my team. The act of teaching things to others makes it so that you have to know the code for that as much as possible, so the fact that ohter people taught it to me means that I was not as strong in the topic.\n",
    "\n",
    "- There were a few non-code-specific issues where I didn't recall what the process was, like stats or math issues. These are just general weaknesses in the area since I haven't taken any math since last year aside from ACT prep lol. \n",
    "\n",
    "\n",
    "- I did fairly well in boolean expressions, with 67% accuracy. This is likely largely due to my previous experience coding in CSSE. I took the class at Westview, and the in depth class taught me alot about booleans specifically, for some reason. It's been awhile since the class, so obviously I forgot some. \n",
    "\n",
    "\n"
   ]
  }
 ],
 "metadata": {
  "language_info": {
   "name": "python"
  }
 },
 "nbformat": 4,
 "nbformat_minor": 2
}
