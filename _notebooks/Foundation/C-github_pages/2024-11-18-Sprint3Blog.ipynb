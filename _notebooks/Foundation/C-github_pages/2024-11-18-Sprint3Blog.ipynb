{
 "cells": [
  {
   "cell_type": "markdown",
   "metadata": {},
   "source": [
    "## Calm luh blog 11/18/2024\n"
   ]
  },
  {
   "cell_type": "markdown",
   "metadata": {},
   "source": [
    "### what I learned:\n",
    "- I learned that collaboration is key to success in this class, because when i didn't know something I was able to ask my teammates/sister if they knew what the question entailed. I also learned the value of common sense, because alot of the questions were just that. Also, I learned that there was a lot of stats. \n",
    "\n",
    "### weak points\n",
    "- I was weak on the more technical questions. The conceptual and common sense ones were easy for me, having taken previous classes like them, but when I had to think through the actual code it was harder. I also noticed that the stuff that my classmates taught that were actually engaging were easy for me to complete, but then the ones who had boring lessons didn't end up as good topics for me for the ap classroom test. \n",
    "\n",
    "### corrections:\n",
    "- Q6: A\n",
    "- Q11: D\n",
    "- Q25: B\n",
    "- Q31: C\n",
    "- Q33: A\n",
    "- Q37: C\n",
    "- Q43: A\n",
    "- Q44: B\n",
    "- Q52: D\n",
    "- Q54: D\n",
    "- Q56: D\n",
    "- Q57: B\n",
    "- Q58: A\n",
    "- Q59: B\n",
    "- Q60: A+D\n",
    "- Q61: A+B\n",
    "- Q62: C+D\n",
    "- Q63: B+D\n",
    "- Q66: C+D\n",
    "- Unfortunately, for the questions past 60, I only got 1 of the options right at a time. This made me realize that I need to understand multiple functions of code. \n",
    "\n",
    "### The topic that I struggled the most with was Data Compression, topic 2.2.\n",
    "- Out of the 3 questions that I was given, I only got 1 right. This demonstrates my weakness in the area, and how my interpretation of code is not at all the most efficient course of action. Data compression is the process of encoding, restructuring or otherwise modifying data in order to reduce its size.\n",
    "\n",
    "- I was also not very good at identifying and correcting errors. I find that this is because I am not familiar with the perfect syntax and code etiquette. If I'm being honest, I do the code and mess around with the spacing until it lights up, usually. And if it says that I have a specific syntax error I ask other people or gemini for help in where the error is. \n",
    "\n",
    "- Iteration and developing algorithms were also rather weak areas for me, likely due to those topics being taught to me by my peers. I found that the topic of Lists was very strong for me, and thats likely due to the fact that I was the one who taught that along with my team. The act of teaching things to others makes it so that you have to know the code for that as much as possible, so the fact that ohter people taught it to me means that I was not as strong in the topic.\n",
    "\n",
    "- There were a few non-code-specific issues where I didn't recall what the process was, like stats or math issues. These are just general weaknesses in the area since I haven't taken any math since last year aside from ACT prep lol. \n",
    "\n",
    "\n",
    "- I did fairly well in boolean expressions, with 67% accuracy. This is likely largely due to my previous experience coding in CSSE. I took the class at Westview, and the in depth class taught me alot about booleans specifically, for some reason. It's been awhile since the class, so obviously I forgot some. \n",
    "\n",
    "\n"
   ]
  }
 ],
 "metadata": {
  "language_info": {
   "name": "python"
  }
 },
 "nbformat": 4,
 "nbformat_minor": 2
}
