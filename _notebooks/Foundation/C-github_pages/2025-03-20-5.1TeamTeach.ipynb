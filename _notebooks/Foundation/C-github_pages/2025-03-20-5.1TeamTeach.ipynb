{
 "cells": [
  {
   "cell_type": "markdown",
   "metadata": {},
   "source": [
    "layout: post\n",
    "title: 5.1 Team Teach Notes, Hacks, HW\n",
    "description: Week 1, Lesson 1\n",
    "permalink: /5.1/\n",
    "comments: true"
   ]
  },
  {
   "cell_type": "markdown",
   "metadata": {},
   "source": [
    "# 5.1 Beneficial and Harmful effects\n",
    "\n",
    "---\n",
    "\n",
    "### Popcorn Hack #1:\n",
    "-  Beneficial effect: makes life more convenient, technological advancements in different professional fields\n",
    "- Harmful effect: screen addiction/dependency, dopamine deficiency, misuse of technology\n",
    "\n",
    "---\n",
    "\n",
    "### Popcorn Hack #2: \n",
    "- Most beneficial: educational technology, for example, we are using technology to take notes on this subject\n",
    "\n",
    "---\n",
    "\n",
    "### Popcorn Hack #3: \n",
    "- I think that AI is harmful when there are no bounds on it. However, I do think that there are many fields where human connection is indespensible. \n",
    "- AI will probably displace certain jobs, but then there will be more that get opened up\n",
    "\n",
    "---\n",
    "\n",
    "### Homework Hacks: \n",
    "- Pick a beneficial or harmful effect and in 5 sentences fully explain why you htink it is beneficial or Harmful\n",
    "    - "
   ]
  }
 ],
 "metadata": {
  "language_info": {
   "name": "python"
  }
 },
 "nbformat": 4,
 "nbformat_minor": 2
}
