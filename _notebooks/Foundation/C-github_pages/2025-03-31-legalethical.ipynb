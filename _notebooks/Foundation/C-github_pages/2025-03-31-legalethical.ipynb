{
 "cells": [
  {
   "cell_type": "markdown",
   "metadata": {},
   "source": [
    "layout: post\n",
    "title: Legal Ethical Concerns\n",
    "description: 03.31.2025\n",
    "permalink: /legalethical/\n",
    "comments: true"
   ]
  },
  {
   "cell_type": "markdown",
   "metadata": {},
   "source": [
    "## Popcorn Hack #1\n",
    "- Legal:\n",
    "- a concern is the ownership of intellectual property\n",
    "- violating software licesnses, copyright\n",
    "- ethical: \n",
    "- exploiting open source code\n",
    "- saying something is your code when its not\n",
    "\n",
    "## Popcorn hack #2\n",
    "- Apache; we just dont want big corporations to steal it, so a patent is better than restricting access all together\n",
    "\n",
    "# HOMEWORK HACK\n",
    "- I chose to put an MIT license on this repository. \n",
    "- I chose to use an MIT license because I think it is the most productive in a school setting. Since the only thing it requires is credit, it is conducive to collaboration. "
   ]
  }
 ],
 "metadata": {
  "language_info": {
   "name": "python"
  }
 },
 "nbformat": 4,
 "nbformat_minor": 2
}
