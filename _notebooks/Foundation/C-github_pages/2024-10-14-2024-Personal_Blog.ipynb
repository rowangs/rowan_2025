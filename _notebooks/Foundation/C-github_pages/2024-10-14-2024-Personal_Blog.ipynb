{
 "cells": [
  {
   "cell_type": "markdown",
   "metadata": {},
   "source": [
    "---\n",
    "layout: post\n",
    "title: Sprint 2 Personal Blog\n",
    "description: personal blog for sprint 2\n",
    "permalink: /sprint2/\n",
    "comments: true\n",
    "---"
   ]
  },
  {
   "cell_type": "markdown",
   "metadata": {},
   "source": [
    "# Sprint 2 Personal Blog\n",
    "\n",
    "## Lesson Taught\n",
    "- Our group was responsible for teaching Lesson 3.10 on Lists, and I focused specifically on accessing and deleting elements. I explained how positive and negative indexing can be used to access elements in a list, and demonstrated the syntax for deleting elements.\n",
    "\n",
    "## Lesson Hack\n",
    "- For my hack, I tasked students with creating a list, displaying the second element (index 1), deleting that element, and then displaying the updated list.\n",
    "\n",
    "## Summary of Units\n",
    "\n",
    "### 3.1: Variables and Data Types\n",
    "- This unit introduces variables in Python and JavaScript, explaining their types and usage. Variables store data that can change based on input, and good naming practices improve readability. Python uses types like integers, strings, booleans, floats, and lists, while JavaScript adds arrays and objects. The unit also covers string concatenation, printing variables, and basic operators.\n",
    "\n",
    "\n",
    "\n",
    "### 3.2: Python Data Types\n",
    "- This unit explores Python’s core data types, including integers, floats, strings, lists, tuples, dictionaries, sets, booleans, and None. Each type serves different programming purposes, from storing numbers and text to organizing data in key-value pairs.\n",
    "\n",
    "\n",
    "### 3.3: Algorithms and Operations\n",
    "- An algorithm is a step-by-step process to solve a problem. This unit covers sequencing, selection, and iteration as key algorithm components, illustrated with flowcharts and pseudocode. It also explains mathematical operations in Python, following the order of operations for calculations.\n",
    "\n",
    "### 3.4: String Manipulation\n",
    "- This unit teaches how to manage strings in Python, including accessing characters via indexing, slicing, and using functions like `.lower()`, `.upper()`, `.count()`, and `.replace()`. JavaScript strings are similarly handled but are immutable, requiring careful manipulation.\n",
    "\n",
    "### 3.5: Relational and Logical Operators\n",
    "- Here, we learned about relational and logical operators in Python and JavaScript, which help compare values and control program flow. The unit also introduced De Morgan’s Laws for simplifying logical expressions.\n",
    "\n",
    "### 3.6: Conditionals\n",
    "- This unit covers conditionals in programming, including `if`, `if-else`, `if-else if-else`, switch statements, and ternary operators. These structures are essential for controlling the flow of a program based on conditions.\n",
    "\n",
    "### 3.7: Nested Conditionals\n",
    "- This lesson builds on conditionals, showing how to nest `if` statements for more complex decision-making.\n",
    "\n",
    "\n",
    "### 3.8: Loops and Recursion\n",
    "- We explored while loops, for loops, and recursion, key tools for iterating through data or repeating tasks. The lesson also touched on error handling using `try/except` blocks for managing exceptions in loops."
   ]
  }
 ],
 "metadata": {
  "language_info": {
   "name": "python"
  }
 },
 "nbformat": 4,
 "nbformat_minor": 2
}
