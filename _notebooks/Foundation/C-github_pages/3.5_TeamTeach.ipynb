{
 "cells": [
  {
   "cell_type": "markdown",
   "metadata": {},
   "source": [
    "---\n",
    "layout: post\n",
    "title: 3.5 Team Teach HW\n",
    "description: Homework assigned during Sprint 2 from Classmates\n",
    "categories: [Collaboration]\n",
    "courses: { csse: {week: 3}, csp: {week: 3}, csa: {week: 2} }\n",
    "menu: nav/github_pages.html\n",
    "permalink: /github/pages\n",
    "type: collab\n",
    "comments: true\n",
    "---"
   ]
  },
  {
   "cell_type": "markdown",
   "metadata": {},
   "source": [
    "## Lesson 3.5.3 (Popcorn) - Python\n",
    "- Hack: Evaluate if a number is less than 0. Output whether the number is negative or non-negative"
   ]
  },
  {
   "cell_type": "code",
   "execution_count": null,
   "metadata": {},
   "outputs": [],
   "source": [
    "# Python program to check if a number is negative or non-negative\n",
    "number = float(input(\"Enter a number: \"))  # Prompt user for input\n",
    "\n",
    "# Check if the number is less than 0\n",
    "if number < 0:\n",
    "    print(\"The number is negative.\")\n",
    "else:\n",
    "    print(\"The number is non-negative.\")\n"
   ]
  },
  {
   "cell_type": "markdown",
   "metadata": {},
   "source": [
    "## Lesson 3.5.3 (Popcorn) - Python\n",
    "- Hack: Check if a character is in the string 'aeiou' and print whether it is a vowel or not"
   ]
  },
  {
   "cell_type": "code",
   "execution_count": null,
   "metadata": {},
   "outputs": [],
   "source": [
    "# Python program to check if a character is a vowel\n",
    "char = input(\"Enter a character: \")  # Prompt user for input\n",
    "\n",
    "# Check if the character is a vowel\n",
    "if char in 'aeiou':\n",
    "    print(f\"{char} is a vowel.\")\n",
    "else:\n",
    "    print(f\"{char} is not a vowel.\")\n"
   ]
  },
  {
   "cell_type": "markdown",
   "metadata": {},
   "source": [
    "## Lesson 3.5.4 (Popcorn) - JavaScript\n",
    "- Hack: Use logical operators to identify if the inputted number is even or odd"
   ]
  },
  {
   "cell_type": "code",
   "execution_count": null,
   "metadata": {
    "vscode": {
     "languageId": "javascript"
    }
   },
   "outputs": [],
   "source": [
    "%% js \n",
    "<script>\n",
    "// JavaScript program to check if a number is even or odd\n",
    "let number = parseInt(prompt(\"Enter a number: \")); // Prompt user for input\n",
    "\n",
    "// Check if the number is even or odd\n",
    "if (number % 2 === 0) {\n",
    "    console.log(number + \" is even.\");\n",
    "    element.append(number + \" is even.<br>\");\n",
    "} else {\n",
    "    console.log(number + \" is odd.\");\n",
    "    element.append(number + \" is odd.<br>\");\n",
    "}\n",
    "</script>\n"
   ]
  },
  {
   "cell_type": "markdown",
   "metadata": {},
   "source": [
    "## Lesson 3.5.3 (Main/Homework) - Python\n",
    "- Hack: Greatest Common Divisor and Least Common Multiple"
   ]
  },
  {
   "cell_type": "code",
   "execution_count": null,
   "metadata": {
    "vscode": {
     "languageId": "javascript"
    }
   },
   "outputs": [],
   "source": [
    "%%js \n",
    "function gcdAndLcm(a, b) {\n",
    "    // Helper function to compute the GCD using Euclidean algorithm\n",
    "    function gcd(x, y) {\n",
    "        while (y !== 0) {\n",
    "            let temp = y;\n",
    "            y = x % y;\n",
    "            x = temp;\n",
    "        }\n",
    "        return x;\n",
    "    }\n",
    "\n",
    "    // Compute GCD\n",
    "    let gcdResult = gcd(a, b);\n",
    "\n",
    "    // Compute LCM\n",
    "    let lcmResult = (a * b) / gcdResult;\n",
    "\n",
    "    // Return the results as an object\n",
    "    return { GCD: gcdResult, LCM: lcmResult };\n",
    "}\n",
    "\n",
    "console.log(gcdAndLcm(24, 36));  // Output: { GCD: 12, LCM: 72 }\n"
   ]
  },
  {
   "cell_type": "markdown",
   "metadata": {},
   "source": [
    "## Lesson 3.5.4 (Main/Homework) - JavaScript\n",
    "- Hack: Prime Factors"
   ]
  },
  {
   "cell_type": "code",
   "execution_count": null,
   "metadata": {
    "vscode": {
     "languageId": "javascript"
    }
   },
   "outputs": [],
   "source": [
    "%% js \n",
    "function primeFactors(n) {\n",
    "    let factors = [];\n",
    "    \n",
    "    // Start dividing by 2\n",
    "    while (n % 2 === 0) {\n",
    "        factors.push(2);\n",
    "        n = n / 2;\n",
    "    }\n",
    "\n",
    "    // Try odd numbers from 3 onwards\n",
    "    for (let i = 3; i <= Math.sqrt(n); i += 2) {\n",
    "        while (n % i === 0) {\n",
    "            factors.push(i);\n",
    "            n = n / i;\n",
    "        }\n",
    "    }\n",
    "\n",
    "    // If n is still a prime number greater than 2\n",
    "    if (n > 2) {\n",
    "        factors.push(n);\n",
    "    }\n",
    "\n",
    "    return factors;\n",
    "}\n",
    "\n",
    "console.log(`Prime factors of 84 are: ${primeFactors(84)}`);  // Output: [2, 2, 3, 7]\n"
   ]
  }
 ],
 "metadata": {
  "language_info": {
   "name": "python"
  }
 },
 "nbformat": 4,
 "nbformat_minor": 2
}
