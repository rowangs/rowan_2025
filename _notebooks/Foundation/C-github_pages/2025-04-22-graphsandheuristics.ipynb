{
 "cells": [
  {
   "cell_type": "markdown",
   "id": "ddc602bd",
   "metadata": {},
   "source": [
    "--- \n",
    "toc: true\n",
    "comments: false\n",
    "layout: post\n",
    "title: \"Graphs and Heuristics\"\n",
    "description: \"04/22/25, Mirabelle's lesson\"\n",
    "type: ccc\n",
    "permalink: /bigo\n",
    "---"
   ]
  },
  {
   "cell_type": "markdown",
   "id": "443d8272",
   "metadata": {},
   "source": [
    "# **Heuristics** \n",
    "\n",
    "## Popcorn Hack"
   ]
  },
  {
   "cell_type": "code",
   "execution_count": 2,
   "id": "9baaa3fd",
   "metadata": {},
   "outputs": [
    {
     "name": "stdout",
     "output_type": "stream",
     "text": [
      "Change for 63¢: [25, 25, 10, 1, 1, 1]\n",
      "Total coins used: 6\n"
     ]
    }
   ],
   "source": [
    "\n",
    "def greedy_coin_change(amount, coins=[25, 10, 5, 1]):\n",
    "    change = []\n",
    "    for coin in coins:\n",
    "        while amount >= coin:\n",
    "            amount -= coin\n",
    "            change.append(coin)\n",
    "    return change\n",
    "\n",
    "# Example usage:\n",
    "amount = 63\n",
    "result = greedy_coin_change(amount)\n",
    "print(f\"Change for {amount}¢: {result}\")\n",
    "print(f\"Total coins used: {len(result)}\")"
   ]
  },
  {
   "cell_type": "markdown",
   "id": "a2ea6e3b",
   "metadata": {},
   "source": [
    "- Flipping the numbers makes it exponentially larger and less efficient than if it were 25 first. "
   ]
  },
  {
   "cell_type": "markdown",
   "id": "05d16c3f",
   "metadata": {},
   "source": [
    "\n",
    "## Homework Hack\n",
    "- Reflection\n",
    "    - Changing the order of coins affected the result because the greedy algorithm always picks the largest available coin first, which doesn’t always lead to the optimal solution. The algorithm that used fewer coins often depended on trying smaller coins earlier, showing that greedy algorithms work well when the coin system is “canonical” but can fail when it isn’t. One key change was adjusting the coin order, which revealed how a greedy strategy might miss the most efficient solution if it doesn’t consider all options."
   ]
  },
  {
   "cell_type": "markdown",
   "id": "502e82d4",
   "metadata": {},
   "source": [
    "# **Graphs**\n",
    "\n",
    "## Popcorn Hack:\n",
    "- done on the board\n",
    "\n",
    "## Homework Hacks\n",
    "\n",
    "### Q1\n",
    "- Answer: C) Both configuration I and configuration II\n",
    "\n",
    "### Q2\n",
    "- Answer: C) Three"
   ]
  },
  {
   "cell_type": "markdown",
   "id": "46cf4c82",
   "metadata": {},
   "source": [
    "# **Undecideable Problems**\n",
    "\n",
    "\n",
    "## Popcorn Hack: Practice from College Borad\n",
    "- 1.) False\n",
    "- 2.) False\n",
    "\n",
    "---\n",
    "\n",
    "## Homework Hack\n",
    "- not committed, cant access"
   ]
  },
  {
   "cell_type": "markdown",
   "id": "2540342c",
   "metadata": {},
   "source": [
    "# **Kahoot**\n",
    "- I got 21 lol"
   ]
  }
 ],
 "metadata": {
  "kernelspec": {
   "display_name": "venv",
   "language": "python",
   "name": "python3"
  },
  "language_info": {
   "codemirror_mode": {
    "name": "ipython",
    "version": 3
   },
   "file_extension": ".py",
   "mimetype": "text/x-python",
   "name": "python",
   "nbconvert_exporter": "python",
   "pygments_lexer": "ipython3",
   "version": "3.12.3"
  }
 },
 "nbformat": 4,
 "nbformat_minor": 5
}
