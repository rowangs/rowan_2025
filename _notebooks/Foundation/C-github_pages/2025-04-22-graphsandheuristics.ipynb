{
 "cells": [
  {
   "cell_type": "markdown",
   "id": "ddc602bd",
   "metadata": {},
   "source": [
    "--- \n",
    "toc: true\n",
    "comments: false\n",
    "layout: post\n",
    "title: \"Graphs and Heuristics\"\n",
    "description: \"04/22/25, Mirabelle's lesson\"\n",
    "type: ccc\n",
    "permalink: /bigo\n",
    "---"
   ]
  },
  {
   "cell_type": "markdown",
   "id": "05d16c3f",
   "metadata": {},
   "source": [
    "## Popcorn Hack #1\n",
    "- Done on the board\n",
    "\n",
    "---\n",
    "\n",
    "## Homework Hacks\n",
    "\n",
    "### Q1\n",
    "- Answer: C) Both configuration I and configuration II\n",
    "\n",
    "### Q2\n",
    "- Answer: C) Three"
   ]
  }
 ],
 "metadata": {
  "language_info": {
   "name": "python"
  }
 },
 "nbformat": 4,
 "nbformat_minor": 5
}
