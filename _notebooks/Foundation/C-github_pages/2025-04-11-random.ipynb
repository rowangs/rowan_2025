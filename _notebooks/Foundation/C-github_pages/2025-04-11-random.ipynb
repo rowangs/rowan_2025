{
 "cells": [
  {
   "cell_type": "markdown",
   "id": "9ef57783",
   "metadata": {},
   "source": [
    "---\n",
    "layout: post\n",
    "title: \"Random Numbers\"\n",
    "description: \"04.11.2025\"\n",
    "permalink: /random/\n",
    "comments: true\n",
    "---"
   ]
  },
  {
   "cell_type": "markdown",
   "id": "bf9d2149",
   "metadata": {},
   "source": [
    "### Popcorn Hack 1: Real-World Applications\n",
    "\n",
    "**Question:** Name two real-world applications where random number generation is essential and briefly explain why.\n",
    "\n",
    "**1. Cybersecurity (Encryption):**  \n",
    "Random number generation is crucial for creating secure encryption keys. If the numbers weren’t truly random, hackers could predict them and break into secure systems.\n",
    "\n",
    "**2. Video Games:**  \n",
    "Games use random numbers to generate unpredictable events, like loot drops or enemy behavior. This keeps gameplay dynamic and different each time you play.\n"
   ]
  },
  {
   "cell_type": "code",
   "execution_count": null,
   "id": "fad35d1f",
   "metadata": {},
   "outputs": [],
   "source": [
    "import random\n",
    "\n",
    "def magic_8_ball():\n",
    "    rand = random.random()  # generates a number between 0.0 and 1.0\n",
    "\n",
    "    if rand < 0.5:\n",
    "        return \"Yes\"\n",
    "    elif rand < 0.75:\n",
    "        return \"No\"\n",
    "    else:\n",
    "        return \"Ask again later\"\n",
    "\n",
    "# Test your function\n",
    "for i in range(10):\n",
    "    print(f\"Magic 8-Ball says: {magic_8_ball()}\")\n"
   ]
  },
  {
   "cell_type": "code",
   "execution_count": null,
   "id": "e6229da5",
   "metadata": {},
   "outputs": [],
   "source": [
    "def traffic_light_simulation():\n",
    "    steps = 20\n",
    "    for i in range(steps):\n",
    "        cycle_position = i % (5 + 2 + 4)  # Total cycle = 11 steps\n",
    "\n",
    "        if cycle_position < 5:\n",
    "            light = \"Green\"\n",
    "        elif cycle_position < 7:\n",
    "            light = \"Yellow\"\n",
    "        else:\n",
    "            light = \"Red\"\n",
    "\n",
    "        print(f\"Step {i + 1}: {light}\")\n",
    "\n",
    "traffic_light_simulation()\n"
   ]
  },
  {
   "cell_type": "markdown",
   "id": "568e74b9",
   "metadata": {},
   "source": [
    "### Popcorn Hack 3 Reflection\n",
    "\n",
    "This is a simulation because it models the behavior of a real traffic light using step-by-step logic in code. It helps us visualize how timing and sequence control traffic flow, and it can be used in real-world scenarios to design safer and more efficient intersections.\n"
   ]
  },
  {
   "cell_type": "code",
   "execution_count": null,
   "id": "0d7235c0",
   "metadata": {},
   "outputs": [],
   "source": [
    "import random\n",
    "\n",
    "def roll_dice():\n",
    "    \"\"\"Roll two dice and return their values and sum.\"\"\"\n",
    "    die1 = random.randint(1, 6)\n",
    "    die2 = random.randint(1, 6)\n",
    "    total = die1 + die2\n",
    "    return die1, die2, total\n",
    "\n",
    "def play_dice_game():\n",
    "    \"\"\"\n",
    "    Play one round of the dice game.\n",
    "    Returns True if player wins, False if player loses.\n",
    "    \"\"\"\n",
    "    die1, die2, total = roll_dice()\n",
    "    print(f\"You rolled: {die1} + {die2} = {total}\")\n",
    "\n",
    "    if total in [7, 11]:\n",
    "        print(\"You win!\")\n",
    "        return True\n",
    "    elif total in [2, 3, 12]:\n",
    "        print(\"You lose!\")\n",
    "        return False\n",
    "    else:\n",
    "        point = total\n",
    "        print(f\"Your point is {point}. Keep rolling!\")\n",
    "\n",
    "        while True:\n",
    "            die1, die2, total = roll_dice()\n",
    "            print(f\"You rolled: {die1} + {die2} = {total}\")\n",
    "\n",
    "            if total == point:\n",
    "                print(\"You rolled your point again. You win!\")\n",
    "                return True\n",
    "            elif total == 7:\n",
    "                print(\"You rolled a 7. You lose!\")\n",
    "                return False\n",
    "\n",
    "def main():\n",
    "    \"\"\"Main game function with game loop and statistics.\"\"\"\n",
    "    wins = 0\n",
    "    losses = 0\n",
    "\n",
    "    while True:\n",
    "        play = input(\"Do you want to play? (yes/no): \").lower()\n",
    "        if play != \"yes\":\n",
    "            break\n",
    "\n",
    "        if play_dice_game():\n",
    "            wins += 1\n",
    "        else:\n",
    "            losses += 1\n",
    "\n",
    "        print(f\"Current Stats -> Wins: {wins}, Losses: {losses}\\n\")\n",
    "\n",
    "    print(\"Thanks for playing!\")\n",
    "    print(f\"Final Stats -> Wins: {wins}, Losses: {losses}\")\n",
    "\n",
    "if __name__ == \"__main__\":\n",
    "    print(\"Welcome to the Dice Game!\")\n",
    "    main()\n"
   ]
  }
 ],
 "metadata": {
  "language_info": {
   "name": "python"
  }
 },
 "nbformat": 4,
 "nbformat_minor": 5
}
