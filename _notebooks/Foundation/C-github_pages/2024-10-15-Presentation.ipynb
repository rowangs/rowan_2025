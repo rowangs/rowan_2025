{
 "cells": [
  {
   "cell_type": "markdown",
   "metadata": {},
   "source": [
    "---\n",
    "layout: post\n",
    "title: Sprint 2 Personal Blog\n",
    "description: personal blog for sprint 2\n",
    "permalink: /sprint2/\n",
    "comments: true\n",
    "---"
   ]
  },
  {
   "cell_type": "markdown",
   "metadata": {},
   "source": [
    "### Blog:\n",
    "\n",
    "- Hi im rowan, and i taught the 3.10.1 lesson about lists and appending; In order to succeed, I used college board videos to guide my lessons, and modeled my lesson and hacks around theirs. In order to prepare myself for the college board exam, I did and redid the hacks from other lessons and made sure to ask questions of my peers in order to ensure my learning. In this project, I found that teaching the material to others was one of the best ways to retain the information for myself. Explaining concepts, like list operations, not only helped me understand the material more deeply, but it also solidified my own learning. This skill is going to be essential for future projects and exams because teaching forces me to organize my thoughts clearly, and in the future, I can use this approach to stay prepared and confident in my work.\n",
    "\n",
    "### Memory:\n",
    "\n",
    "- To help others remember my lesson, you can think of the obnoxiously pink interface of my lesson. I used what we learned from sprint 1 to make a theme for our lessons, and made it very loud and pink. \n",
    "\n",
    "### Relevancy:\n",
    "\n",
    "- One of the most impactful things I learned during this sprint came from another group’s presentation. They used a video and a Kahoot game to explain the material, which made their lesson really engaging and fun. The interactive nature of their approach helped me understand the content more deeply, and it showed me how using creative tools can make complicated topics more accessible.\n",
    "\n",
    "### Beyond Perfunctory:\n",
    "\n",
    " - Finally, something that made this experience really unique for me is the fact that my younger sister is also in this class. We collaborated on understanding the material, especially when it came to some of the more challenging hacks. Working together allowed us to approach the lessons from different perspectives, and by discussing the material, we both learned more effectively. This collaboration added a personal layer to my learning, and it helped me grow both academically and personally."
   ]
  }
 ],
 "metadata": {
  "language_info": {
   "name": "python"
  }
 },
 "nbformat": 4,
 "nbformat_minor": 2
}
