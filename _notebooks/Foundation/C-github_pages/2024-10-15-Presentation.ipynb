{
 "cells": [
  {
   "cell_type": "markdown",
   "metadata": {},
   "source": [
    "### Blog:\n",
    "\n",
    "- In this project, I found that teaching the material to others was one of the best ways to retain the information for myself. Explaining concepts, like list operations or conditional checks, not only helped me understand the material more deeply, but it also solidified my own learning. This skill is going to be essential for future projects and exams because teaching forces me to organize my thoughts clearly, and in the future, I can use this approach to stay prepared and confident in my work.\n",
    "\n",
    "### Memory:\n",
    "\n",
    "- To ensure my presentation went smoothly and quickly, I prepared a script beforehand. This preparation made a huge difference because it kept me on track and ensured that I covered all the important points without getting sidetracked. Having everything laid out in advance meant that I could stay focused, which helped me deliver my presentation efficiently.\n",
    "\n",
    "### Relevancy:\n",
    "\n",
    "- One of the most impactful things I learned during this sprint came from another group’s presentation. They used a video and a Kahoot game to explain the material, which made their lesson really engaging and fun. The interactive nature of their approach helped me understand the content more deeply, and it showed me how using creative tools can make complicated topics more accessible.\n",
    "\n",
    "### Beyond Perfunctory:\n",
    "\n",
    " - Finally, something that made this experience really unique for me is the fact that my younger sister is also in this class. We collaborated on understanding the material, especially when it came to some of the more challenging hacks. Working together allowed us to approach the lessons from different perspectives, and by discussing the material, we both learned more effectively. This collaboration added a personal layer to my learning, and it helped me grow both academically and personally."
   ]
  }
 ],
 "metadata": {
  "language_info": {
   "name": "python"
  }
 },
 "nbformat": 4,
 "nbformat_minor": 2
}
