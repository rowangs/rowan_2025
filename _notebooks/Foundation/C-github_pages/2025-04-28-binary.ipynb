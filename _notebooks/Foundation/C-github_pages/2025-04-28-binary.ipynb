{
 "cells": [
  {
   "cell_type": "markdown",
   "id": "fb6ace5b",
   "metadata": {},
   "source": [
    "--- \n",
    "toc: true\n",
    "comments: false\n",
    "layout: post\n",
    "title: \"Binary Lesson\"\n",
    "type: ccc\n",
    "permalink: /binary\n",
    "---"
   ]
  },
  {
   "cell_type": "markdown",
   "id": "c4b9c8a7",
   "metadata": {},
   "source": [
    "### popcorn hack #1\n",
    "- 1.) yes\n",
    "- 2.) no\n",
    "- 3.) yes\n",
    "\n",
    "### popcorn hack #2\n",
    "- 1.) 1011\n",
    "- 2.) 010\n",
    "- 3.) 1110"
   ]
  },
  {
   "cell_type": "markdown",
   "id": "d5e02834",
   "metadata": {},
   "source": [
    "### popcorn hack #1\n",
    " - True\n",
    "\n",
    "### popcorn hack #2\n",
    " - false\n",
    "\n",
    "### popcorn hack #3\n",
    " - True\n",
    "\n",
    "---\n",
    "## Homework Hack #1!"
   ]
  },
  {
   "cell_type": "code",
   "execution_count": null,
   "id": "be099d88",
   "metadata": {},
   "outputs": [],
   "source": [
    "# Function to convert decimal to binary\n",
    "def decimal_to_binary(decimal_number):\n",
    "    if decimal_number >= 0:\n",
    "        return bin(decimal_number)[2:]  # Remove '0b' prefix\n",
    "    else:\n",
    "        return '-' + bin(abs(decimal_number))[2:]\n",
    "\n",
    "# Function to convert binary to decimal\n",
    "def binary_to_decimal(binary_string):\n",
    "    if binary_string.startswith('-'):\n",
    "        return -int(binary_string[1:], 2)\n",
    "    else:\n",
    "        return int(binary_string, 2)\n",
    "\n",
    "# Test the functions\n",
    "# Positive number\n",
    "print(\"Decimal 10 to Binary:\", decimal_to_binary(10))   # Output: 1010\n",
    "print(\"Binary 1010 to Decimal:\", binary_to_decimal('1010'))  # Output: 10\n",
    "\n",
    "# Negative number\n",
    "print(\"Decimal -10 to Binary:\", decimal_to_binary(-10))   # Output: -1010\n",
    "print(\"Binary -1010 to Decimal:\", binary_to_decimal('-1010'))  # Output: -10\n",
    "\n",
    "# More tests\n",
    "print(\"Decimal 0 to Binary:\", decimal_to_binary(0))  # Output: 0\n",
    "print(\"Binary 0 to Decimal:\", binary_to_decimal('0'))  # Output: 0\n"
   ]
  },
  {
   "cell_type": "markdown",
   "id": "19f5d376",
   "metadata": {},
   "source": [
    "## Homework Hack #2!"
   ]
  },
  {
   "cell_type": "code",
   "execution_count": null,
   "id": "9c917b09",
   "metadata": {},
   "outputs": [],
   "source": [
    "import time\n",
    "\n",
    "difficulty = input(\"Enter difficulty (easy, medium, hard): \").lower().strip()\n",
    "\n",
    "while difficulty != \"easy\" and difficulty != \"medium\" and difficulty != \"hard\":\n",
    "    print(\"Please enter a valid difficulty level.\")\n",
    "    time.sleep(0.5)\n",
    "    difficulty = input(\"Enter difficulty (easy, medium, hard): \").lower().strip()\n",
    "\n",
    "print(\"Difficulty set to:\", difficulty)\n"
   ]
  }
 ],
 "metadata": {
  "language_info": {
   "name": "python"
  }
 },
 "nbformat": 4,
 "nbformat_minor": 5
}
