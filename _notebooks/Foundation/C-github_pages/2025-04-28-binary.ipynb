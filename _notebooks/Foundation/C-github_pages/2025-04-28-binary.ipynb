{
 "cells": [
  {
   "cell_type": "markdown",
   "id": "fb6ace5b",
   "metadata": {},
   "source": [
    "--- \n",
    "toc: true\n",
    "comments: false\n",
    "layout: post\n",
    "title: \"Binary Lesson\"\n",
    "type: ccc\n",
    "permalink: /binary\n",
    "---"
   ]
  },
  {
   "cell_type": "markdown",
   "id": "c4b9c8a7",
   "metadata": {},
   "source": []
  }
 ],
 "metadata": {
  "language_info": {
   "name": "python"
  }
 },
 "nbformat": 4,
 "nbformat_minor": 5
}
