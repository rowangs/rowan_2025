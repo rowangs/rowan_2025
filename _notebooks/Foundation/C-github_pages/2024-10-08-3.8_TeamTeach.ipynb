{
 "cells": [
  {
   "cell_type": "markdown",
   "metadata": {},
   "source": [
    "## popcorn Hack #1\n",
    "- print the number 5, 5x"
   ]
  },
  {
   "cell_type": "code",
   "execution_count": 9,
   "metadata": {},
   "outputs": [
    {
     "name": "stdout",
     "output_type": "stream",
     "text": [
      "Hello\n",
      "Hello\n",
      "Hello\n",
      "Hello\n",
      "Hello\n"
     ]
    }
   ],
   "source": [
    "counter = 5\n",
    "while counter > 0:\n",
    "    print(\"Hello\")\n",
    "    counter -= 1"
   ]
  },
  {
   "cell_type": "markdown",
   "metadata": {},
   "source": [
    "## Popcorn Hack #2\n",
    "- complicated \n",
    "- (rowan x1, grace x2, sutherland x3) x 4"
   ]
  },
  {
   "cell_type": "code",
   "execution_count": 24,
   "metadata": {},
   "outputs": [
    {
     "name": "stdout",
     "output_type": "stream",
     "text": [
      "Rowan\n",
      "  Grace\n",
      "      Sutherland\n",
      "      Sutherland\n",
      "      Sutherland\n",
      "  Grace\n",
      "      Sutherland\n",
      "      Sutherland\n",
      "      Sutherland\n",
      "Rowan\n",
      "  Grace\n",
      "      Sutherland\n",
      "      Sutherland\n",
      "      Sutherland\n",
      "  Grace\n",
      "      Sutherland\n",
      "      Sutherland\n",
      "      Sutherland\n",
      "Rowan\n",
      "  Grace\n",
      "      Sutherland\n",
      "      Sutherland\n",
      "      Sutherland\n",
      "  Grace\n",
      "      Sutherland\n",
      "      Sutherland\n",
      "      Sutherland\n",
      "Rowan\n",
      "  Grace\n",
      "      Sutherland\n",
      "      Sutherland\n",
      "      Sutherland\n",
      "  Grace\n",
      "      Sutherland\n",
      "      Sutherland\n",
      "      Sutherland\n",
      "Rowan\n",
      "  Grace\n",
      "      Sutherland\n",
      "      Sutherland\n",
      "      Sutherland\n",
      "  Grace\n",
      "      Sutherland\n",
      "      Sutherland\n",
      "      Sutherland\n"
     ]
    }
   ],
   "source": [
    "## defining my variables \n",
    "outer_counter = 0\n",
    "inner_counter = 0\n",
    "last_counter = 0\n",
    "\n",
    "## establish the loop\n",
    "while outer_counter <= 4:\n",
    "    print(\"Rowan\")\n",
    "    \n",
    "    inner_counter = 0\n",
    "    while inner_counter < 2:\n",
    "        print(\"  Grace\")\n",
    "\n",
    "        last_counter = 0\n",
    "        while last_counter < 3:\n",
    "            print(\"      Sutherland\")\n",
    "\n",
    "            last_counter += 1\n",
    "            \n",
    "        inner_counter += 1\n",
    "    \n",
    "    outer_counter += 1"
   ]
  },
  {
   "cell_type": "markdown",
   "metadata": {},
   "source": [
    "## popcorn hack #3"
   ]
  },
  {
   "cell_type": "code",
   "execution_count": 25,
   "metadata": {},
   "outputs": [
    {
     "name": "stdout",
     "output_type": "stream",
     "text": [
      "r\n",
      "o\n",
      "w\n",
      "a\n",
      "n\n"
     ]
    }
   ],
   "source": [
    "name = \"rowan\"\n",
    "\n",
    "for letter in name:\n",
    "    print(letter)\n"
   ]
  },
  {
   "cell_type": "code",
   "execution_count": 26,
   "metadata": {
    "vscode": {
     "languageId": "javascript"
    }
   },
   "outputs": [
    {
     "data": {
      "application/javascript": "for (let letter of \"rowan\") {\n    console.log(letter);\n}\n<IPython.core.display.Javascript object></IPython.core.display.Javascript>\n",
      "text/plain": [
       "<IPython.core.display.Javascript object>"
      ]
     },
     "metadata": {},
     "output_type": "display_data"
    }
   ],
   "source": [
    "%%js\n",
    "for (let letter of \"rowan\") {\n",
    "    console.log(letter);\n",
    "}\n",
    "<IPython.core.display.Javascript object></IPython.core.display.Javascript>"
   ]
  },
  {
   "cell_type": "markdown",
   "metadata": {},
   "source": [
    "## popcorn hack #4"
   ]
  },
  {
   "cell_type": "code",
   "execution_count": 27,
   "metadata": {},
   "outputs": [
    {
     "name": "stdout",
     "output_type": "stream",
     "text": [
      "Rowan's favorite food is Pizza because it's delicious!\n",
      "Peyton's favorite food is Sushi because it's delicious!\n",
      "Carson's favorite food is Tacos because it's delicious!\n"
     ]
    },
    {
     "ename": "KeyboardInterrupt",
     "evalue": "Interrupted by user",
     "output_type": "error",
     "traceback": [
      "\u001b[0;31m---------------------------------------------------------------------------\u001b[0m",
      "\u001b[0;31mKeyboardInterrupt\u001b[0m                         Traceback (most recent call last)",
      "Cell \u001b[0;32mIn[29], line 2\u001b[0m\n\u001b[1;32m      1\u001b[0m \u001b[38;5;66;03m# Ask for the user's name\u001b[39;00m\n\u001b[0;32m----> 2\u001b[0m name \u001b[38;5;241m=\u001b[39m \u001b[38;5;28;43minput\u001b[39;49m\u001b[43m(\u001b[49m\u001b[38;5;124;43m\"\u001b[39;49m\u001b[38;5;124;43mEnter your name: \u001b[39;49m\u001b[38;5;124;43m\"\u001b[39;49m\u001b[43m)\u001b[49m\n\u001b[1;32m      4\u001b[0m \u001b[38;5;66;03m# Iterate through each character in the name and print it\u001b[39;00m\n\u001b[1;32m      5\u001b[0m \u001b[38;5;28;01mfor\u001b[39;00m letter \u001b[38;5;129;01min\u001b[39;00m name:\n",
      "File \u001b[0;32m~/nighthawk/rowan_2025/venv/lib/python3.12/site-packages/ipykernel/kernelbase.py:1282\u001b[0m, in \u001b[0;36mKernel.raw_input\u001b[0;34m(self, prompt)\u001b[0m\n\u001b[1;32m   1280\u001b[0m     msg \u001b[38;5;241m=\u001b[39m \u001b[38;5;124m\"\u001b[39m\u001b[38;5;124mraw_input was called, but this frontend does not support input requests.\u001b[39m\u001b[38;5;124m\"\u001b[39m\n\u001b[1;32m   1281\u001b[0m     \u001b[38;5;28;01mraise\u001b[39;00m StdinNotImplementedError(msg)\n\u001b[0;32m-> 1282\u001b[0m \u001b[38;5;28;01mreturn\u001b[39;00m \u001b[38;5;28;43mself\u001b[39;49m\u001b[38;5;241;43m.\u001b[39;49m\u001b[43m_input_request\u001b[49m\u001b[43m(\u001b[49m\n\u001b[1;32m   1283\u001b[0m \u001b[43m    \u001b[49m\u001b[38;5;28;43mstr\u001b[39;49m\u001b[43m(\u001b[49m\u001b[43mprompt\u001b[49m\u001b[43m)\u001b[49m\u001b[43m,\u001b[49m\n\u001b[1;32m   1284\u001b[0m \u001b[43m    \u001b[49m\u001b[38;5;28;43mself\u001b[39;49m\u001b[38;5;241;43m.\u001b[39;49m\u001b[43m_parent_ident\u001b[49m\u001b[43m[\u001b[49m\u001b[38;5;124;43m\"\u001b[39;49m\u001b[38;5;124;43mshell\u001b[39;49m\u001b[38;5;124;43m\"\u001b[39;49m\u001b[43m]\u001b[49m\u001b[43m,\u001b[49m\n\u001b[1;32m   1285\u001b[0m \u001b[43m    \u001b[49m\u001b[38;5;28;43mself\u001b[39;49m\u001b[38;5;241;43m.\u001b[39;49m\u001b[43mget_parent\u001b[49m\u001b[43m(\u001b[49m\u001b[38;5;124;43m\"\u001b[39;49m\u001b[38;5;124;43mshell\u001b[39;49m\u001b[38;5;124;43m\"\u001b[39;49m\u001b[43m)\u001b[49m\u001b[43m,\u001b[49m\n\u001b[1;32m   1286\u001b[0m \u001b[43m    \u001b[49m\u001b[43mpassword\u001b[49m\u001b[38;5;241;43m=\u001b[39;49m\u001b[38;5;28;43;01mFalse\u001b[39;49;00m\u001b[43m,\u001b[49m\n\u001b[1;32m   1287\u001b[0m \u001b[43m\u001b[49m\u001b[43m)\u001b[49m\n",
      "File \u001b[0;32m~/nighthawk/rowan_2025/venv/lib/python3.12/site-packages/ipykernel/kernelbase.py:1325\u001b[0m, in \u001b[0;36mKernel._input_request\u001b[0;34m(self, prompt, ident, parent, password)\u001b[0m\n\u001b[1;32m   1322\u001b[0m \u001b[38;5;28;01mexcept\u001b[39;00m \u001b[38;5;167;01mKeyboardInterrupt\u001b[39;00m:\n\u001b[1;32m   1323\u001b[0m     \u001b[38;5;66;03m# re-raise KeyboardInterrupt, to truncate traceback\u001b[39;00m\n\u001b[1;32m   1324\u001b[0m     msg \u001b[38;5;241m=\u001b[39m \u001b[38;5;124m\"\u001b[39m\u001b[38;5;124mInterrupted by user\u001b[39m\u001b[38;5;124m\"\u001b[39m\n\u001b[0;32m-> 1325\u001b[0m     \u001b[38;5;28;01mraise\u001b[39;00m \u001b[38;5;167;01mKeyboardInterrupt\u001b[39;00m(msg) \u001b[38;5;28;01mfrom\u001b[39;00m \u001b[38;5;28;01mNone\u001b[39;00m\n\u001b[1;32m   1326\u001b[0m \u001b[38;5;28;01mexcept\u001b[39;00m \u001b[38;5;167;01mException\u001b[39;00m:\n\u001b[1;32m   1327\u001b[0m     \u001b[38;5;28mself\u001b[39m\u001b[38;5;241m.\u001b[39mlog\u001b[38;5;241m.\u001b[39mwarning(\u001b[38;5;124m\"\u001b[39m\u001b[38;5;124mInvalid Message:\u001b[39m\u001b[38;5;124m\"\u001b[39m, exc_info\u001b[38;5;241m=\u001b[39m\u001b[38;5;28;01mTrue\u001b[39;00m)\n",
      "\u001b[0;31mKeyboardInterrupt\u001b[0m: Interrupted by user"
     ]
    }
   ],
   "source": [
    "# Define a dictionary with people's favorite foods\n",
    "favorite_foods = {\n",
    "    \"Rowan\": \"Pizza\",\n",
    "    \"Peyton\": \"Sushi\",\n",
    "    \"Carson\": \"Tacos\"\n",
    "}\n",
    "\n",
    "# Iterate over the dictionary items\n",
    "for name, food in favorite_foods.items():\n",
    "    # Print a formatted message for each key-value pair\n",
    "    print(f\"{name}'s favorite food is {food} because it's delicious!\")\n"
   ]
  },
  {
   "cell_type": "code",
   "execution_count": 31,
   "metadata": {
    "vscode": {
     "languageId": "javascript"
    }
   },
   "outputs": [
    {
     "data": {
      "application/javascript": "// Define an object to store people's favorite foods\nconst favoriteFoods = {\n    \"Rowan\": \"Pizza\",\n    \"Peyton\": \"Sushi\",\n    \"Carson\": \"Tacos\"\n};\n\n// Use a for...of loop with Object.entries() to iterate over the object\nfor (const [name, food] of Object.entries(favoriteFoods)) {\n    // Print a formatted message for each key-value pair\n    console.log(`${name}'s favorite food is ${food} because it's delicious!`);\n}\n",
      "text/plain": [
       "<IPython.core.display.Javascript object>"
      ]
     },
     "metadata": {},
     "output_type": "display_data"
    }
   ],
   "source": [
    "%%js\n",
    "// Define an object to store people's favorite foods\n",
    "const favoriteFoods = {\n",
    "    \"Rowan\": \"Pizza\",\n",
    "    \"Peyton\": \"Sushi\",\n",
    "    \"Carson\": \"Tacos\"\n",
    "};\n",
    "\n",
    "// Use a for...of loop with Object.entries() to iterate over the object\n",
    "for (const [name, food] of Object.entries(favoriteFoods)) {\n",
    "    // Print a formatted message for each key-value pair\n",
    "    console.log(`${name}'s favorite food is ${food} because it's delicious!`);\n",
    "}\n"
   ]
  },
  {
   "cell_type": "markdown",
   "metadata": {},
   "source": [
    "## HW Hack #1 "
   ]
  },
  {
   "cell_type": "code",
   "execution_count": 32,
   "metadata": {},
   "outputs": [
    {
     "name": "stdout",
     "output_type": "stream",
     "text": [
      "Password is correct.\n"
     ]
    }
   ],
   "source": [
    "# While loop to check for correct password\n",
    "correct_password = \"letmein\"\n",
    "\n",
    "while True:\n",
    "    password = input(\"Enter your password: \")\n",
    "    \n",
    "    # Check if the entered password is correct\n",
    "    if password == correct_password:\n",
    "        print(\"Password is correct.\")\n",
    "        break  # Exit the loop if the password is correct\n",
    "    else:\n",
    "        print(\"Incorrect password, please try again.\")\n"
   ]
  },
  {
   "cell_type": "markdown",
   "metadata": {},
   "source": [
    "## HW Hack #2"
   ]
  },
  {
   "cell_type": "code",
   "execution_count": 33,
   "metadata": {},
   "outputs": [
    {
     "name": "stdout",
     "output_type": "stream",
     "text": [
      "r\n",
      "o\n",
      "w\n",
      "a\n",
      "n\n"
     ]
    }
   ],
   "source": [
    "# Ask for the user's name\n",
    "name = input(\"Enter your name: \")\n",
    "\n",
    "# Iterate through each character in the name and print it\n",
    "for letter in name:\n",
    "    print(letter)\n"
   ]
  },
  {
   "cell_type": "markdown",
   "metadata": {},
   "source": [
    "## HW Hack #3"
   ]
  },
  {
   "cell_type": "code",
   "execution_count": 34,
   "metadata": {},
   "outputs": [
    {
     "name": "stdout",
     "output_type": "stream",
     "text": [
      "Apple\n",
      "Banana\n",
      "Mango\n",
      "Orange\n",
      "Grapes\n",
      "Strawberry\n",
      "Pineapple\n"
     ]
    }
   ],
   "source": [
    "# List of fruits\n",
    "fruits = [\"Apple\", \"Banana\", \"Mango\", \"Orange\", \"Grapes\", \"Strawberry\", \"Pineapple\"]\n",
    "\n",
    "# Iterate through the list of fruits and print each one\n",
    "for fruit in fruits:\n",
    "    print(fruit)\n"
   ]
  }
 ],
 "metadata": {
  "kernelspec": {
   "display_name": "venv",
   "language": "python",
   "name": "python3"
  },
  "language_info": {
   "codemirror_mode": {
    "name": "ipython",
    "version": 3
   },
   "file_extension": ".py",
   "mimetype": "text/x-python",
   "name": "python",
   "nbconvert_exporter": "python",
   "pygments_lexer": "ipython3",
   "version": "3.12.3"
  }
 },
 "nbformat": 4,
 "nbformat_minor": 2
}
