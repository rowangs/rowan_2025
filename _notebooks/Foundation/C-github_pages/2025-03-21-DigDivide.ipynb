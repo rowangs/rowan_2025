{
 "cells": [
  {
   "cell_type": "markdown",
   "metadata": {},
   "source": [
    "# The digital divide\n",
    "\n",
    "- The difference between people who have stable access to internet and resources and those who do not\n",
    "\n",
    "### Popcorn Hacks\n",
    "- #1: I have seen how there are some people at school who are unable to get hteir own device, and need to use the school chromebooks. Not only are they slower machines, they are harder to use and have limited functionality, which demonstrates how there is even a divide in our own community. \n",
    "- #2: Computers are not inclusive for people who do not have hands, or for people who are paralyzed. \n",
    "\n",
    "- Practice MCQ:\n",
    "    - 1.) C\n",
    "    - 2.) B\n",
    "    - 3.) B\n",
    "\n",
    "### Homework Hacks\n",
    "- In my community, I’ve noticed that students from lower-income neighborhoods often lack access to reliable internet and up-to-date technology, which affects their ability to complete school assignments or attend virtual classes. While some areas have strong Wi-Fi and resources like laptops or tablets, others are left behind due to their location or limited funding. This divide has become even more noticeable during times of remote learning, where some students fall behind simply because they don’t have the tools they need. Socioeconomic factors clearly play a role, as families struggling to meet basic needs often can’t prioritize expensive tech. I can help bridge this gap by volunteering at local libraries or community centers to assist with tech support, donating old devices, and advocating for equal access to technology through school or local government initiatives."
   ]
  }
 ],
 "metadata": {
  "language_info": {
   "name": "python"
  }
 },
 "nbformat": 4,
 "nbformat_minor": 2
}
