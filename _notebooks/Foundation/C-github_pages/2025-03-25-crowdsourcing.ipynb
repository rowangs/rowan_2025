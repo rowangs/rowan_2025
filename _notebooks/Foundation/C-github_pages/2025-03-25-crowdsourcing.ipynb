{
 "cells": [
  {
   "cell_type": "markdown",
   "metadata": {},
   "source": [
    "layout: post\n",
    "title: Big Idea 5 Crowdsourcing Notes, Hacks, HW\n",
    "description: Week 2, Lesson 2\n",
    "permalink: /crowdsourcing/\n",
    "comments: true"
   ]
  },
  {
   "cell_type": "markdown",
   "metadata": {},
   "source": [
    "### Popcorn Hack 1\n",
    "- What are the different types of crowdsourcing, and how do they contribute to innovation? Provide a brief description of each type.\n",
    "    - **Crowd Creation**: Involves generating content or creative works by tapping into the talents of the public. Examples include design contests or open innovation challenges. It promotes innovation by inviting a diverse range of ideas.  \n",
    "    - **Crowd Voting**: Collects opinions or preferences from a large group of people to guide decisions or select winners. This allows organizations to make more informed choices based on public interest.  \n",
    "    - **Crowd Wisdom**: Gathers insights or solutions from a diverse group, leveraging collective intelligence to solve problems or make predictions. It fosters innovation by surfacing unique ideas from unexpected sources.  \n",
    "    - **Crowd Funding**: Pools small amounts of money from many contributors to support a project or venture. It enables new innovations to be developed without traditional funding barriers.\n",
    "\n",
    "\n",
    "### Popcorn Hack 2\n",
    "- What is data crowdsourcing, and how does it contribute to open-source development? Provide 3+ examples of public datasets that have been created through crowdsourcing efforts.\n",
    "    - Data crowdsourcing is the process of gathering large volumes of information from a distributed group of contributors, usually online. It supports open-source development by making large-scale, diverse datasets freely available for research, software development, and innovation.  \n",
    "    - **Examples of public datasets created through crowdsourcing:**  \n",
    "        - **OpenStreetMap**: A user-generated map of the world that is constantly updated by contributors.  \n",
    "        - **Wikipedia**: A crowdsourced encyclopedia that provides open-access knowledge across virtually every topic.  \n",
    "        - **Zooniverse Projects** (e.g., Galaxy Zoo): Volunteers contribute to scientific research by classifying images, helping to build datasets used in academic research.  \n",
    "      \n",
    "\n",
    "### Popcorn Hack 3\n",
    "- How does distributed computing contribute to innovations through crowdsourcing? Provide 3+ examples of successful projects that have utilized distributed computing and crowdsourcing to obtain data.\n",
    "    - Distributed computing allows large computational tasks to be split among many volunteer computers, significantly reducing time and resource demands. This approach leverages crowdsourced computing power to tackle massive scientific problems and innovate faster.  \n",
    "    - **Examples of projects:**  \n",
    "        - **Folding@Home**: Uses volunteers’ computers to simulate protein folding, helping to research diseases like cancer, Alzheimer’s, and COVID-19.  \n",
    "        - **SETI@Home**: Analyzes radio signals from space for signs of extraterrestrial life using volunteers' idle computer time.  \n",
    "        - **Rosetta@Home**: Helps predict protein structures to support medical research by distributing computing tasks to volunteers globally.  \n",
    "       \n",
    "\n",
    "### Homework Question\n",
    "- Write 4+ sentences on the impact of crowdsourcing on modern innovation.\n",
    "- Should cover: Crowdsourcing and its significance in today’s age, The different types of crowdsourcing, How distributed computing enhances crowdsourcing efforts, and How data crowdsourcing has contributed to open source development.\n",
    "- Then reflect in a sentence or two on the future potential of crowdsourcing in driving innovation. \n",
    "    - Crowdsourcing plays a vital role in today’s innovation landscape by tapping into the collective skills, knowledge, and resources of the public. Different types of crowdsourcing—such as crowd creation, crowd wisdom, crowd voting, and crowdfunding—enable companies and organizations to gather ideas, feedback, and funding more efficiently. Distributed computing enhances these efforts by allowing large-scale data processing to be shared across thousands of computers, accelerating research and scientific discovery. Data crowdsourcing has also contributed significantly to open-source development by creating publicly accessible datasets that fuel research, machine learning models, and global collaboration. In the future, crowdsourcing has the potential to drive even greater innovation by further decentralizing problem-solving and making it easier for people around the world to contribute their skills and ideas toward meaningful causes.\n",
    "\n",
    "\n",
    "\n",
    "\n",
    "\n",
    "\n"
   ]
  }
 ],
 "metadata": {
  "language_info": {
   "name": "python"
  }
 },
 "nbformat": 4,
 "nbformat_minor": 2
}
