{
 "cells": [
  {
   "cell_type": "markdown",
   "metadata": {},
   "source": [
    "## Lesson 3.1.1 (Popcorn) - python\n",
    "- Hack: Make your own variables for members of your team, but follow the naming convention for python"
   ]
  },
  {
   "cell_type": "code",
   "execution_count": null,
   "metadata": {},
   "outputs": [],
   "source": [
    "# Python Variables\n",
    "team_member_1 = \"Rowan Sutherland\"\n",
    "team_member_2 = \"Peyton Sutherland\"\n",
    "team_member_3 = \"Carson Sutherland\"\n",
    "\n",
    "# Print statements\n",
    "print(\"Team Members:\")\n",
    "print(\"1. \" + team_member_1)\n",
    "print(\"2. \" + team_member_2)\n",
    "print(\"3. \" + team_member_3)\n"
   ]
  },
  {
   "cell_type": "markdown",
   "metadata": {},
   "source": [
    "## Lesson 3.1.2 (Popcorn) - Python\n",
    "- Hack: make a dictionary about fruits"
   ]
  },
  {
   "cell_type": "code",
   "execution_count": null,
   "metadata": {},
   "outputs": [],
   "source": [
    "# Python Dictionary\n",
    "fruit_info = {\n",
    "    \"apple\": {\"color\": \"red\", \"taste\": \"sweet\"},\n",
    "    \"banana\": {\"color\": \"yellow\", \"taste\": \"sweet\"},\n",
    "    \"orange\": {\"color\": \"orange\", \"taste\": \"citrus\"}\n",
    "}\n",
    "\n",
    "# Display fruit information\n",
    "for fruit, details in fruit_info.items():\n",
    "    print(f\"{fruit.capitalize()}: Color - {details['color']}, Taste - {details['taste']}\")\n"
   ]
  },
  {
   "cell_type": "markdown",
   "metadata": {},
   "source": [
    "## Lesson 3.1.4 (Popcorn) - java\n",
    "- Hack: Create your own array using 2+ different data types"
   ]
  },
  {
   "cell_type": "code",
   "execution_count": null,
   "metadata": {
    "vscode": {
     "languageId": "html"
    }
   },
   "outputs": [],
   "source": [
    "<script>\n",
    "    // JavaScript Array with multiple data types\n",
    "    let mixedArray = [\"apple\", 23, true, [1, 2, 3], {name: \"banana\", color: \"yellow\"}];\n",
    "    \n",
    "    // Log the array\n",
    "    console.log(\"Mixed Array: \", mixedArray);\n",
    "    element.append(\"Mixed Array: \" + mixedArray.join(\", \"));\n",
    "    </script>\n",
    "    "
   ]
  },
  {
   "cell_type": "markdown",
   "metadata": {},
   "source": [
    "## lesson 3.1.3 (Main) - Java\n",
    "- Hack: Define variables automatically using let and const, write console.log() statements and a short function "
   ]
  },
  {
   "cell_type": "code",
   "execution_count": null,
   "metadata": {
    "vscode": {
     "languageId": "html"
    }
   },
   "outputs": [],
   "source": [
    "<script>\n",
    "    // Using let and const\n",
    "    let age = 17;\n",
    "    const name = \"Rowan Sutherland\";\n",
    "    \n",
    "    // Logging variables\n",
    "    console.log(\"Name: \", name);\n",
    "    console.log(\"Age: \", age);\n",
    "    \n",
    "    // Short function to string variables together\n",
    "    function introducePerson() {\n",
    "        return `Hello, my name is ${name} and I am ${age} years old.`;\n",
    "    }\n",
    "    \n",
    "    console.log(introducePerson());\n",
    "    element.append(introducePerson());\n",
    "    </script>\n",
    "    "
   ]
  },
  {
   "cell_type": "markdown",
   "metadata": {},
   "source": [
    "## Lesson 3.1.4 (Main) - Java\n",
    "- Hack: Create an average grade calculator using integers and addition"
   ]
  },
  {
   "cell_type": "code",
   "execution_count": null,
   "metadata": {
    "vscode": {
     "languageId": "html"
    }
   },
   "outputs": [],
   "source": [
    "<script>\n",
    "    // Average grade calculator\n",
    "    let mathGrade = 85;\n",
    "    let scienceGrade = 90;\n",
    "    let englishGrade = 88;\n",
    "    \n",
    "    // Calculate average grade\n",
    "    let averageGrade = (mathGrade + scienceGrade + englishGrade) / 3;\n",
    "    \n",
    "    console.log(\"Average Grade: \", averageGrade);\n",
    "    element.append(\"Average Grade: \" + averageGrade + \"<br>\");\n",
    "    \n",
    "    // Array of student info\n",
    "    let studentInfo = [\n",
    "        { name: \"Rowan\", age: 17, grade: averageGrade },\n",
    "        { name: \"Peyton\", age: 19, grade: 92 }\n",
    "    ];\n",
    "    \n",
    "    // Log student information\n",
    "    studentInfo.forEach(student => {\n",
    "        console.log(\"Student Info: \", student);\n",
    "        element.append(`Name: ${student.name}, Age: ${student.age}, Grade: ${student.grade}<br>`);\n",
    "    });\n",
    "    </script>\n",
    "    "
   ]
  }
 ],
 "metadata": {
  "language_info": {
   "name": "python"
  }
 },
 "nbformat": 4,
 "nbformat_minor": 2
}
