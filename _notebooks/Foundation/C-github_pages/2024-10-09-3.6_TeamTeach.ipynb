{
 "cells": [
  {
   "cell_type": "markdown",
   "metadata": {},
   "source": [
    "## Popcorn Hack #1\n",
    "- What would happen if you added more temperature ranges?\n",
    "- Python"
   ]
  },
  {
   "cell_type": "code",
   "execution_count": 1,
   "metadata": {},
   "outputs": [
    {
     "name": "stdout",
     "output_type": "stream",
     "text": [
      "I don't like this weather.\n"
     ]
    }
   ],
   "source": [
    "# Step 1: Add a variable that represents temperature\n",
    "temperature = 50  # You can change this value to test different conditions\n",
    "\n",
    "if 65 <= temperature <= 80:\n",
    "    print(\"It's a comfortable day\")\n",
    "# Step 2: Check if it’s a hot day\n",
    "else: \n",
    "    print(\"I don't like this weather.\")"
   ]
  },
  {
   "cell_type": "markdown",
   "metadata": {},
   "source": [
    "## Popcorn Hack #1\n",
    "- Conditions in JavaScript\n",
    "- How would you change the code to show a message for scores below 60? What would you add? "
   ]
  },
  {
   "cell_type": "code",
   "execution_count": 21,
   "metadata": {
    "vscode": {
     "languageId": "javascript"
    }
   },
   "outputs": [
    {
     "data": {
      "application/javascript": "\nlet score = 50;\nif (50 >= 60) {\n    console.log(\"You passed!\");\n} else {\n    console.log(\"Maybe study!\");\n}\n",
      "text/plain": [
       "<IPython.core.display.Javascript object>"
      ]
     },
     "metadata": {},
     "output_type": "display_data"
    }
   ],
   "source": [
    "%%js\n",
    "\n",
    "let score = 50;\n",
    "if (50 >= 60) {\n",
    "    console.log(\"You passed!\");\n",
    "} else {\n",
    "    console.log(\"Maybe study!\");\n",
    "}\n"
   ]
  },
  {
   "cell_type": "markdown",
   "metadata": {},
   "source": [
    "## Python HW Hack #1"
   ]
  },
  {
   "cell_type": "code",
   "execution_count": 22,
   "metadata": {},
   "outputs": [
    {
     "name": "stdout",
     "output_type": "stream",
     "text": [
      "Even\n",
      "Odd\n",
      "Even\n",
      "Odd\n"
     ]
    }
   ],
   "source": [
    "# Define the function check_odd_even\n",
    "def check_odd_even(number):\n",
    "    # Check if the number is divisible by 2\n",
    "    if number % 2 == 0:\n",
    "        return \"Even\"\n",
    "    else:\n",
    "        return \"Odd\"\n",
    "\n",
    "# Test the function with different numbers\n",
    "print(check_odd_even(10))  # Output: Even\n",
    "print(check_odd_even(7))   # Output: Odd\n",
    "print(check_odd_even(0))   # Output: Even\n",
    "print(check_odd_even(33))  # Output: Odd\n"
   ]
  },
  {
   "cell_type": "markdown",
   "metadata": {},
   "source": [
    "## Python HW Hack #2"
   ]
  },
  {
   "cell_type": "code",
   "execution_count": 23,
   "metadata": {},
   "outputs": [
    {
     "name": "stdout",
     "output_type": "stream",
     "text": [
      "Leap Year\n",
      "Not a Leap Year\n",
      "Leap Year\n",
      "Not a Leap Year\n"
     ]
    }
   ],
   "source": [
    "# Define the function is_leap_year\n",
    "def is_leap_year(year):\n",
    "    # Check if the year is divisible by 4 but not 100, or divisible by 400\n",
    "    if (year % 4 == 0 and year % 100 != 0) or (year % 400 == 0):\n",
    "        return \"Leap Year\"\n",
    "    else:\n",
    "        return \"Not a Leap Year\"\n",
    "\n",
    "# Test the function with different years\n",
    "print(is_leap_year(2020))  # Output: Leap Year\n",
    "print(is_leap_year(1900))  # Output: Not a Leap Year\n",
    "print(is_leap_year(2000))  # Output: Leap Year\n",
    "print(is_leap_year(2023))  # Output: Not a Leap Year\n"
   ]
  },
  {
   "cell_type": "markdown",
   "metadata": {},
   "source": [
    "## Python HW Hack #3"
   ]
  },
  {
   "cell_type": "code",
   "execution_count": null,
   "metadata": {},
   "outputs": [],
   "source": [
    "# Define the function temperature_range\n",
    "def temperature_range(temperature):\n",
    "    # Use if...elif...else statements to categorize the temperature\n",
    "    if temperature < 60:\n",
    "        return \"Cold\"\n",
    "    elif 60 <= temperature <= 80:\n",
    "        return \"Warm\"\n",
    "    elif temperature > 85:\n",
    "        return \"Hot\"\n",
    "    else:\n",
    "        return \"Undefined Range\"  # For temperatures between 81°F and 85°F\n",
    "\n",
    "# Test the function with different temperature values\n",
    "print(temperature_range(55))  # Output: Cold\n",
    "print(temperature_range(75))  # Output: Warm\n",
    "print(temperature_range(90))  # Output: Hot\n",
    "print(temperature_range(83))  # Output: Undefined Range\n"
   ]
  },
  {
   "cell_type": "markdown",
   "metadata": {},
   "source": [
    "## JavaScript HW Hack #1"
   ]
  },
  {
   "cell_type": "code",
   "execution_count": 24,
   "metadata": {
    "vscode": {
     "languageId": "javascript"
    }
   },
   "outputs": [
    {
     "data": {
      "application/javascript": "public class VotingEligibility {\n    // Define the function checkVotingEligibility\n    public static String checkVotingEligibility(int age) {\n        // Check if the age is 18 or older\n        if (age >= 18) {\n            return \"You are eligible to vote!\";\n        } else {\n            return \"You are not eligible to vote yet.\";\n        }\n    }\n\n    public static void main(String[] args) {\n        // Test the function with different age values\n        System.out.println(checkVotingEligibility(20));  // Output: You are eligible to vote!\n        System.out.println(checkVotingEligibility(16));  // Output: You are not eligible to vote yet.\n        System.out.println(checkVotingEligibility(18));  // Output: You are eligible to vote!\n    }\n}\n",
      "text/plain": [
       "<IPython.core.display.Javascript object>"
      ]
     },
     "metadata": {},
     "output_type": "display_data"
    }
   ],
   "source": [
    "%%js\n",
    "public class VotingEligibility {\n",
    "    // Define the function checkVotingEligibility\n",
    "    public static String checkVotingEligibility(int age) {\n",
    "        // Check if the age is 18 or older\n",
    "        if (age >= 18) {\n",
    "            return \"You are eligible to vote!\";\n",
    "        } else {\n",
    "            return \"You are not eligible to vote yet.\";\n",
    "        }\n",
    "    }\n",
    "\n",
    "    public static void main(String[] args) {\n",
    "        // Test the function with different age values\n",
    "        System.out.println(checkVotingEligibility(20));  // Output: You are eligible to vote!\n",
    "        System.out.println(checkVotingEligibility(16));  // Output: You are not eligible to vote yet.\n",
    "        System.out.println(checkVotingEligibility(18));  // Output: You are eligible to vote!\n",
    "    }\n",
    "}\n"
   ]
  },
  {
   "cell_type": "markdown",
   "metadata": {},
   "source": [
    "## JavaScript HW Hack #2"
   ]
  },
  {
   "cell_type": "code",
   "execution_count": 25,
   "metadata": {
    "vscode": {
     "languageId": "javascript"
    }
   },
   "outputs": [
    {
     "data": {
      "application/javascript": "public class GradeCalculator {\n    // Define the function getGrade\n    public static String getGrade(int score) {\n        // Use if...else if...else statements to determine the letter grade\n        if (score >= 90) {\n            return \"Grade: A\";\n        } else if (score >= 80) {\n            return \"Grade: B\";\n        } else if (score >= 70) {\n            return \"Grade: C\";\n        } else {\n            return \"Grade: F\";\n        }\n    }\n\n    public static void main(String[] args) {\n        // Test the function with different scores\n        System.out.println(getGrade(95));  // Output: Grade: A\n        System.out.println(getGrade(85));  // Output: Grade: B\n        System.out.println(getGrade(75));  // Output: Grade: C\n        System.out.println(getGrade(65));  // Output: Grade: F\n    }\n}\n",
      "text/plain": [
       "<IPython.core.display.Javascript object>"
      ]
     },
     "metadata": {},
     "output_type": "display_data"
    }
   ],
   "source": [
    "%%js\n",
    "public class GradeCalculator {\n",
    "    // Define the function getGrade\n",
    "    public static String getGrade(int score) {\n",
    "        // Use if...else if...else statements to determine the letter grade\n",
    "        if (score >= 90) {\n",
    "            return \"Grade: A\";\n",
    "        } else if (score >= 80) {\n",
    "            return \"Grade: B\";\n",
    "        } else if (score >= 70) {\n",
    "            return \"Grade: C\";\n",
    "        } else {\n",
    "            return \"Grade: F\";\n",
    "        }\n",
    "    }\n",
    "\n",
    "    public static void main(String[] args) {\n",
    "        // Test the function with different scores\n",
    "        System.out.println(getGrade(95));  // Output: Grade: A\n",
    "        System.out.println(getGrade(85));  // Output: Grade: B\n",
    "        System.out.println(getGrade(75));  // Output: Grade: C\n",
    "        System.out.println(getGrade(65));  // Output: Grade: F\n",
    "    }\n",
    "}\n"
   ]
  },
  {
   "cell_type": "markdown",
   "metadata": {},
   "source": [
    "## JavaScript HW Hack #3"
   ]
  },
  {
   "cell_type": "code",
   "execution_count": 26,
   "metadata": {
    "vscode": {
     "languageId": "javascript"
    }
   },
   "outputs": [
    {
     "data": {
      "application/javascript": "\npublic class TemperatureConverter {\n    // Define the function convertTemperature\n    public static String convertTemperature(double value, String scale) {\n        // Check if the scale is \"C\" or \"F\"\n        if (scale.equalsIgnoreCase(\"C\")) {\n            // Convert Celsius to Fahrenheit\n            double fahrenheit = (value * 9/5) + 32;\n            return String.format(\"%.2f°C is %.2f°F\", value, fahrenheit);\n        } else if (scale.equalsIgnoreCase(\"F\")) {\n            // Convert Fahrenheit to Celsius\n            double celsius = (value - 32) * 5/9;\n            return String.format(\"%.2f°F is %.2f°C\", value, celsius);\n        } else {\n            // If scale is neither \"C\" nor \"F\", return an error message\n            return \"Error: Invalid scale. Please use 'C' for Celsius or 'F' for Fahrenheit.\";\n        }\n    }\n\n    public static void main(String[] args) {\n        // Test the function with different values and scales\n        System.out.println(convertTemperature(25, \"C\"));  // Output: 25.00°C is 77.00°F\n        System.out.println(convertTemperature(77, \"F\"));  // Output: 77.00°F is 25.00°C\n        System.out.println(convertTemperature(100, \"X\")); // Output: Error: Invalid scale. Please use 'C' or 'F'.\n    }\n}\n",
      "text/plain": [
       "<IPython.core.display.Javascript object>"
      ]
     },
     "metadata": {},
     "output_type": "display_data"
    }
   ],
   "source": [
    "%%js\n",
    "\n",
    "public class TemperatureConverter {\n",
    "    // Define the function convertTemperature\n",
    "    public static String convertTemperature(double value, String scale) {\n",
    "        // Check if the scale is \"C\" or \"F\"\n",
    "        if (scale.equalsIgnoreCase(\"C\")) {\n",
    "            // Convert Celsius to Fahrenheit\n",
    "            double fahrenheit = (value * 9/5) + 32;\n",
    "            return String.format(\"%.2f°C is %.2f°F\", value, fahrenheit);\n",
    "        } else if (scale.equalsIgnoreCase(\"F\")) {\n",
    "            // Convert Fahrenheit to Celsius\n",
    "            double celsius = (value - 32) * 5/9;\n",
    "            return String.format(\"%.2f°F is %.2f°C\", value, celsius);\n",
    "        } else {\n",
    "            // If scale is neither \"C\" nor \"F\", return an error message\n",
    "            return \"Error: Invalid scale. Please use 'C' for Celsius or 'F' for Fahrenheit.\";\n",
    "        }\n",
    "    }\n",
    "\n",
    "    public static void main(String[] args) {\n",
    "        // Test the function with different values and scales\n",
    "        System.out.println(convertTemperature(25, \"C\"));  // Output: 25.00°C is 77.00°F\n",
    "        System.out.println(convertTemperature(77, \"F\"));  // Output: 77.00°F is 25.00°C\n",
    "        System.out.println(convertTemperature(100, \"X\")); // Output: Error: Invalid scale. Please use 'C' or 'F'.\n",
    "    }\n",
    "}\n"
   ]
  }
 ],
 "metadata": {
  "kernelspec": {
   "display_name": "venv",
   "language": "python",
   "name": "python3"
  },
  "language_info": {
   "codemirror_mode": {
    "name": "ipython",
    "version": 3
   },
   "file_extension": ".py",
   "mimetype": "text/x-python",
   "name": "python",
   "nbconvert_exporter": "python",
   "pygments_lexer": "ipython3",
   "version": "3.12.3"
  }
 },
 "nbformat": 4,
 "nbformat_minor": 2
}
